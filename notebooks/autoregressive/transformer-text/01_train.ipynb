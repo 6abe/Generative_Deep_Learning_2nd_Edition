{
 "cells": [
  {
   "cell_type": "markdown",
   "id": "b076bd1a-b236-4fbc-953d-8295b25122ae",
   "metadata": {},
   "source": [
    "# 🚀 Transformer"
   ]
  },
  {
   "cell_type": "markdown",
   "id": "b863c414-1946-4482-b0d0-1552ee5ffd41",
   "metadata": {},
   "source": [
    "## Table of contents\n",
    "0. [Parameters](#parameters)\n",
    "1. [Load the Data](#load)\n",
    "2. [Tokenize the Data](#tokenize)\n",
    "3. [Create the Training Set](#create)\n",
    "3. [Create the Token and Position Embedder](#embedder)\n",
    "3. [Create the Causal Attention Mask function](#causal)\n",
    "3. [Create Transformer Block Layer](#transformer)\n",
    "4. [Build the Transformer Decoder](#build)\n",
    "5. [Train the Transformer](#train)"
   ]
  },
  {
   "cell_type": "code",
   "execution_count": 1,
   "id": "4dca6836-0007-43f3-af65-d12ae1922c02",
   "metadata": {
    "tags": []
   },
   "outputs": [],
   "source": [
    "%load_ext autoreload\n",
    "%autoreload 2"
   ]
  },
  {
   "cell_type": "code",
   "execution_count": 2,
   "id": "73350761-bef2-4e96-b3ac-a158eabd2b65",
   "metadata": {
    "tags": []
   },
   "outputs": [],
   "source": [
    "import numpy as np\n",
    "import matplotlib.pyplot as plt\n",
    "import os\n",
    "import json\n",
    "from pprint import pprint\n",
    "import random\n",
    "import re\n",
    "import string\n",
    "from IPython.display import display, HTML"
   ]
  },
  {
   "cell_type": "code",
   "execution_count": 3,
   "id": "91097258-46a2-42a9-839b-d8416b10a51b",
   "metadata": {
    "tags": []
   },
   "outputs": [
    {
     "name": "stderr",
     "output_type": "stream",
     "text": [
      "2023-02-06 11:43:08.544165: I tensorflow/core/platform/cpu_feature_guard.cc:193] This TensorFlow binary is optimized with oneAPI Deep Neural Network Library (oneDNN) to use the following CPU instructions in performance-critical operations:  AVX2 FMA\n",
      "To enable them in other operations, rebuild TensorFlow with the appropriate compiler flags.\n"
     ]
    }
   ],
   "source": [
    "import tensorflow as tf"
   ]
  },
  {
   "cell_type": "code",
   "execution_count": 4,
   "id": "2960b086-6566-40e8-93bc-ff54b3233708",
   "metadata": {
    "tags": []
   },
   "outputs": [],
   "source": [
    "import tensorflow.keras as keras"
   ]
  },
  {
   "cell_type": "code",
   "execution_count": 5,
   "id": "fd555295-99c3-492f-9772-aff8d0d4978f",
   "metadata": {},
   "outputs": [
    {
     "name": "stdout",
     "output_type": "stream",
     "text": [
      "Num GPUs Available:  1\n"
     ]
    },
    {
     "name": "stderr",
     "output_type": "stream",
     "text": [
      "2023-02-06 11:43:14.275457: I tensorflow/compiler/xla/stream_executor/cuda/cuda_gpu_executor.cc:981] successful NUMA node read from SysFS had negative value (-1), but there must be at least one NUMA node, so returning NUMA node zero\n",
      "2023-02-06 11:43:14.308999: I tensorflow/compiler/xla/stream_executor/cuda/cuda_gpu_executor.cc:981] successful NUMA node read from SysFS had negative value (-1), but there must be at least one NUMA node, so returning NUMA node zero\n",
      "2023-02-06 11:43:14.309632: I tensorflow/compiler/xla/stream_executor/cuda/cuda_gpu_executor.cc:981] successful NUMA node read from SysFS had negative value (-1), but there must be at least one NUMA node, so returning NUMA node zero\n"
     ]
    }
   ],
   "source": [
    "print(\"Num GPUs Available: \", len(tf.config.list_physical_devices('GPU')))"
   ]
  },
  {
   "cell_type": "markdown",
   "id": "339e6268-ebd7-4feb-86db-1fe7abccdbe5",
   "metadata": {},
   "source": [
    "## 0. Parameters <a name=\"parameters\"></a>"
   ]
  },
  {
   "cell_type": "code",
   "execution_count": 6,
   "id": "2d8352af-343e-4c2e-8c91-95f8bac1c8a1",
   "metadata": {},
   "outputs": [],
   "source": [
    "VOCAB_SIZE = 10000\n",
    "MAX_LEN = 80\n",
    "EMBEDDING_DIM = 256\n",
    "KEY_DIM = 256\n",
    "N_HEADS = 2\n",
    "FEED_FORWARD_DIM = 256\n",
    "VALIDATION_SPLIT = 0.2\n",
    "SEED = 42\n",
    "LOAD_MODEL = False\n",
    "BATCH_SIZE = 32\n",
    "EPOCHS = 5"
   ]
  },
  {
   "cell_type": "markdown",
   "id": "b7716fac-0010-49b0-b98e-53be2259edde",
   "metadata": {},
   "source": [
    "## 1. Load the data <a name=\"load\"></a>"
   ]
  },
  {
   "cell_type": "code",
   "execution_count": 7,
   "id": "93cf6b0f-9667-4146-8911-763a8a2925d3",
   "metadata": {
    "tags": []
   },
   "outputs": [],
   "source": [
    "# Load the full dataset\n",
    "with open(\"/app/data/wine-reviews/winemag-data-130k-v2.json\") as json_data:\n",
    "    wine_data = json.load(json_data)"
   ]
  },
  {
   "cell_type": "code",
   "execution_count": 8,
   "id": "2db5c0fc-0d5f-42ab-ade1-57e594c416ec",
   "metadata": {
    "tags": []
   },
   "outputs": [
    {
     "data": {
      "text/plain": [
       "{'points': '87',\n",
       " 'title': 'Kirkland Signature 2011 Mountain Cuvée Cabernet Sauvignon (Napa Valley)',\n",
       " 'description': 'Soft, supple plum envelopes an oaky structure in this Cabernet, supported by 15% Merlot. Coffee and chocolate complete the picture, finishing strong at the end, resulting in a value-priced wine of attractive flavor and immediate accessibility.',\n",
       " 'taster_name': 'Virginie Boone',\n",
       " 'taster_twitter_handle': '@vboone',\n",
       " 'price': 19,\n",
       " 'designation': 'Mountain Cuvée',\n",
       " 'variety': 'Cabernet Sauvignon',\n",
       " 'region_1': 'Napa Valley',\n",
       " 'region_2': 'Napa',\n",
       " 'province': 'California',\n",
       " 'country': 'US',\n",
       " 'winery': 'Kirkland Signature'}"
      ]
     },
     "execution_count": 8,
     "metadata": {},
     "output_type": "execute_result"
    }
   ],
   "source": [
    "wine_data[10]"
   ]
  },
  {
   "cell_type": "code",
   "execution_count": 9,
   "id": "23a74eca-f1b7-4a46-9a1f-b5806a4ed361",
   "metadata": {
    "tags": []
   },
   "outputs": [],
   "source": [
    "# Filter the dataset\n",
    "filtered_data = [\n",
    "    \"wine review : \" + x[\"country\"] + \" : \" + x[\"province\"] + \" : \" + x[\"variety\"] + \" : \" + x[\"description\"]\n",
    "    for x in wine_data\n",
    "    if x[\"country\"] is not None\n",
    "    and x[\"province\"] is not None\n",
    "    and x[\"variety\"] is not None\n",
    "    and x[\"description\"] is not None\n",
    "]"
   ]
  },
  {
   "cell_type": "code",
   "execution_count": 10,
   "id": "389c20de-0422-4c48-a7b4-6ee12a7bf0e2",
   "metadata": {
    "tags": []
   },
   "outputs": [
    {
     "name": "stdout",
     "output_type": "stream",
     "text": [
      "129907 recipes loaded\n"
     ]
    }
   ],
   "source": [
    "# Count the recipes\n",
    "n_wines = len(filtered_data)\n",
    "print(f\"{n_wines} recipes loaded\")"
   ]
  },
  {
   "cell_type": "code",
   "execution_count": 11,
   "id": "1b2e3cf7-e416-460e-874a-0dd9637bca36",
   "metadata": {},
   "outputs": [
    {
     "name": "stdout",
     "output_type": "stream",
     "text": [
      "wine review : US : California : Pinot Noir : Oak and earth intermingle around robust aromas of wet forest floor in this vineyard-designated Pinot that hails from a high-elevation site. Small in production, it offers intense, full-bodied raspberry and blackberry steeped in smoky spice and smooth texture.\n"
     ]
    }
   ],
   "source": [
    "example = filtered_data[25]\n",
    "print(example)"
   ]
  },
  {
   "cell_type": "markdown",
   "id": "3f871aaf-d873-41c7-8946-e4eef7ac17c1",
   "metadata": {},
   "source": [
    "## 2. Tokenize the data <a name=\"tokenize\"></a>"
   ]
  },
  {
   "cell_type": "code",
   "execution_count": 12,
   "id": "5b2064fb-5dcc-4657-b470-0928d10e2ddc",
   "metadata": {
    "tags": []
   },
   "outputs": [],
   "source": [
    "# Pad the punctuation, to treat them as separate 'words'\n",
    "def pad_punctuation(s):\n",
    "    s = re.sub(f\"([{string.punctuation}, '\\n'])\", r\" \\1 \", s)\n",
    "    s = re.sub(\" +\", \" \", s)\n",
    "    return s\n",
    "\n",
    "\n",
    "text_data = [pad_punctuation(x) for x in filtered_data]"
   ]
  },
  {
   "cell_type": "code",
   "execution_count": 13,
   "id": "b87d7c65-9a46-492a-a5c0-a043b0d252f3",
   "metadata": {},
   "outputs": [
    {
     "data": {
      "text/plain": [
       "'wine review : US : California : Pinot Noir : Oak and earth intermingle around robust aromas of wet forest floor in this vineyard - designated Pinot that hails from a high - elevation site . Small in production , it offers intense , full - bodied raspberry and blackberry steeped in smoky spice and smooth texture . '"
      ]
     },
     "execution_count": 13,
     "metadata": {},
     "output_type": "execute_result"
    }
   ],
   "source": [
    "# Display an example of a recipe\n",
    "example_data = text_data[25]\n",
    "example_data"
   ]
  },
  {
   "cell_type": "code",
   "execution_count": 14,
   "id": "9834f916-b21a-4104-acc9-f28d3bd7a8c1",
   "metadata": {
    "tags": []
   },
   "outputs": [
    {
     "name": "stderr",
     "output_type": "stream",
     "text": [
      "2023-02-06 11:43:31.799977: I tensorflow/core/platform/cpu_feature_guard.cc:193] This TensorFlow binary is optimized with oneAPI Deep Neural Network Library (oneDNN) to use the following CPU instructions in performance-critical operations:  AVX2 FMA\n",
      "To enable them in other operations, rebuild TensorFlow with the appropriate compiler flags.\n",
      "2023-02-06 11:43:31.802636: I tensorflow/compiler/xla/stream_executor/cuda/cuda_gpu_executor.cc:981] successful NUMA node read from SysFS had negative value (-1), but there must be at least one NUMA node, so returning NUMA node zero\n",
      "2023-02-06 11:43:31.803337: I tensorflow/compiler/xla/stream_executor/cuda/cuda_gpu_executor.cc:981] successful NUMA node read from SysFS had negative value (-1), but there must be at least one NUMA node, so returning NUMA node zero\n",
      "2023-02-06 11:43:31.803905: I tensorflow/compiler/xla/stream_executor/cuda/cuda_gpu_executor.cc:981] successful NUMA node read from SysFS had negative value (-1), but there must be at least one NUMA node, so returning NUMA node zero\n",
      "2023-02-06 11:43:33.148802: I tensorflow/compiler/xla/stream_executor/cuda/cuda_gpu_executor.cc:981] successful NUMA node read from SysFS had negative value (-1), but there must be at least one NUMA node, so returning NUMA node zero\n",
      "2023-02-06 11:43:33.150408: I tensorflow/compiler/xla/stream_executor/cuda/cuda_gpu_executor.cc:981] successful NUMA node read from SysFS had negative value (-1), but there must be at least one NUMA node, so returning NUMA node zero\n",
      "2023-02-06 11:43:33.151091: I tensorflow/compiler/xla/stream_executor/cuda/cuda_gpu_executor.cc:981] successful NUMA node read from SysFS had negative value (-1), but there must be at least one NUMA node, so returning NUMA node zero\n",
      "2023-02-06 11:43:33.152233: I tensorflow/core/common_runtime/gpu/gpu_device.cc:1613] Created device /job:localhost/replica:0/task:0/device:GPU:0 with 13781 MB memory:  -> device: 0, name: Tesla T4, pci bus id: 0000:00:04.0, compute capability: 7.5\n"
     ]
    }
   ],
   "source": [
    "# Convert to a Tensorflow Dataset\n",
    "text_ds = tf.data.Dataset.from_tensor_slices(text_data).batch(BATCH_SIZE).shuffle(1000)"
   ]
  },
  {
   "cell_type": "code",
   "execution_count": 15,
   "id": "884c0bcb-0807-45a1-8f7e-a32f2c6fa4de",
   "metadata": {},
   "outputs": [],
   "source": [
    "# Create a vectorisation layer\n",
    "vectorize_layer = keras.layers.TextVectorization(\n",
    "    standardize=\"lower\",\n",
    "    max_tokens=VOCAB_SIZE,\n",
    "    output_mode=\"int\",\n",
    "    output_sequence_length=MAX_LEN + 1,\n",
    ")"
   ]
  },
  {
   "cell_type": "code",
   "execution_count": 16,
   "id": "4d6dd34a-d905-497b-926a-405380ebcf98",
   "metadata": {},
   "outputs": [],
   "source": [
    "# Adapt the layer to the training set\n",
    "vectorize_layer.adapt(text_ds)\n",
    "vocab = vectorize_layer.get_vocabulary()"
   ]
  },
  {
   "cell_type": "code",
   "execution_count": 17,
   "id": "f6c1c7ce-3cf0-40d4-a3dc-ab7090f69f2f",
   "metadata": {},
   "outputs": [
    {
     "name": "stdout",
     "output_type": "stream",
     "text": [
      "0: \n",
      "1: [UNK]\n",
      "2: :\n",
      "3: ,\n",
      "4: .\n",
      "5: and\n",
      "6: the\n",
      "7: wine\n",
      "8: a\n",
      "9: of\n"
     ]
    }
   ],
   "source": [
    "# Display some token:word mappings\n",
    "for i, word in enumerate(vocab[:10]):\n",
    "    print(f\"{i}: {word}\")"
   ]
  },
  {
   "cell_type": "code",
   "execution_count": 18,
   "id": "1cc30186-7ec6-4eb6-b29a-65df6714d321",
   "metadata": {},
   "outputs": [
    {
     "name": "stdout",
     "output_type": "stream",
     "text": [
      "[   7   10    2   20    2   29    2   43   62    2   55    5  243 4145\n",
      "  453  634   26    9  497  499  667   17   12  142   14 2214   43   25\n",
      " 2484   32    8  223   14 2213  948    4  594   17  987    3   15   75\n",
      "  237    3   64   14   82   97    5   74 2633   17  198   49    5  125\n",
      "   77    4    0    0    0    0    0    0    0    0    0    0    0    0\n",
      "    0    0    0    0    0    0    0    0    0    0    0]\n"
     ]
    }
   ],
   "source": [
    "# Display the same example converted to ints\n",
    "example_tokenised = vectorize_layer(example_data)\n",
    "print(example_tokenised.numpy())"
   ]
  },
  {
   "cell_type": "markdown",
   "id": "8c195efb-84c6-4be0-a989-a7542188ad35",
   "metadata": {},
   "source": [
    "## 3. Create the Training Set <a name=\"create\"></a>"
   ]
  },
  {
   "cell_type": "code",
   "execution_count": 19,
   "id": "740294a1-1a6b-4c89-92f2-036d7d1b788b",
   "metadata": {},
   "outputs": [],
   "source": [
    "# Create the training set of recipes and the same text shifted by one word\n",
    "def prepare_inputs(text):\n",
    "    text = tf.expand_dims(text, -1)\n",
    "    tokenized_sentences = vectorize_layer(text)\n",
    "    x = tokenized_sentences[:, :-1]\n",
    "    y = tokenized_sentences[:, 1:]\n",
    "    return x, y\n",
    "\n",
    "\n",
    "train_ds = text_ds.map(prepare_inputs)"
   ]
  },
  {
   "cell_type": "code",
   "execution_count": 20,
   "id": "cad80ffb-4298-4249-86b4-9918d62534c5",
   "metadata": {},
   "outputs": [],
   "source": [
    "example_input_output = train_ds.take(1).get_single_element()"
   ]
  },
  {
   "cell_type": "code",
   "execution_count": 21,
   "id": "67ff7263-f62d-44c1-997b-1aa99a393521",
   "metadata": {},
   "outputs": [
    {
     "data": {
      "text/plain": [
       "<tf.Tensor: shape=(80,), dtype=int64, numpy=\n",
       "array([   7,   10,    2,   42,    2,   65,    2,   65,   14,   63,   24,\n",
       "         27,    2,  170,    5,  109,    3,   12,    7,   41,  183,   70,\n",
       "         25,  555,   11,    6,   34,    5,   57,   77,    4,   79,   13,\n",
       "         52, 2058,  603,  986,    9,  100,  206,  905,   48,  205,   11,\n",
       "        969,   48,   45,   44,    5,  660,   48,   45,  200,   46,    6,\n",
       "       1385,    3,  187,   79,   13,    8,  847,   93,  219,   19,    6,\n",
       "          7,   25,  265,    8,  263,  398,    4,   15,   13,  962,   71,\n",
       "        296,   35,   32])>"
      ]
     },
     "execution_count": 21,
     "metadata": {},
     "output_type": "execute_result"
    }
   ],
   "source": [
    "# Example Input\n",
    "example_input_output[0][0]"
   ]
  },
  {
   "cell_type": "code",
   "execution_count": 22,
   "id": "ef2e2cad-414c-4e6d-a2ac-6b9598f9dd01",
   "metadata": {},
   "outputs": [
    {
     "data": {
      "text/plain": [
       "<tf.Tensor: shape=(80,), dtype=int64, numpy=\n",
       "array([  10,    2,   42,    2,   65,    2,   65,   14,   63,   24,   27,\n",
       "          2,  170,    5,  109,    3,   12,    7,   41,  183,   70,   25,\n",
       "        555,   11,    6,   34,    5,   57,   77,    4,   79,   13,   52,\n",
       "       2058,  603,  986,    9,  100,  206,  905,   48,  205,   11,  969,\n",
       "         48,   45,   44,    5,  660,   48,   45,  200,   46,    6, 1385,\n",
       "          3,  187,   79,   13,    8,  847,   93,  219,   19,    6,    7,\n",
       "         25,  265,    8,  263,  398,    4,   15,   13,  962,   71,  296,\n",
       "         35,   32,  473])>"
      ]
     },
     "execution_count": 22,
     "metadata": {},
     "output_type": "execute_result"
    }
   ],
   "source": [
    "# Example Output (shifted by one token)\n",
    "example_input_output[1][0]"
   ]
  },
  {
   "cell_type": "markdown",
   "id": "aff50401-3abe-4c10-bba8-b35bc13ad7d5",
   "metadata": {
    "tags": []
   },
   "source": [
    "## 5. Create the causal attention mask function <a name=\"causal\"></a>"
   ]
  },
  {
   "cell_type": "code",
   "execution_count": 23,
   "id": "554a4184-61c2-4eb7-a063-d965586a8188",
   "metadata": {},
   "outputs": [
    {
     "data": {
      "text/plain": [
       "array([[1, 1, 1, 1, 1, 1, 1, 1, 1, 1],\n",
       "       [0, 1, 1, 1, 1, 1, 1, 1, 1, 1],\n",
       "       [0, 0, 1, 1, 1, 1, 1, 1, 1, 1],\n",
       "       [0, 0, 0, 1, 1, 1, 1, 1, 1, 1],\n",
       "       [0, 0, 0, 0, 1, 1, 1, 1, 1, 1],\n",
       "       [0, 0, 0, 0, 0, 1, 1, 1, 1, 1],\n",
       "       [0, 0, 0, 0, 0, 0, 1, 1, 1, 1],\n",
       "       [0, 0, 0, 0, 0, 0, 0, 1, 1, 1],\n",
       "       [0, 0, 0, 0, 0, 0, 0, 0, 1, 1],\n",
       "       [0, 0, 0, 0, 0, 0, 0, 0, 0, 1]], dtype=int32)"
      ]
     },
     "execution_count": 23,
     "metadata": {},
     "output_type": "execute_result"
    }
   ],
   "source": [
    "def causal_attention_mask(batch_size, n_dest, n_src, dtype):\n",
    "    i = tf.range(n_dest)[:, None]\n",
    "    j = tf.range(n_src)\n",
    "    m = i >= j - n_src + n_dest\n",
    "    mask = tf.cast(m, dtype)\n",
    "    mask = tf.reshape(mask, [1, n_dest, n_src])\n",
    "    mult = tf.concat([tf.expand_dims(batch_size, -1), tf.constant([1, 1], dtype=tf.int32)], 0)\n",
    "    return tf.tile(mask, mult)\n",
    "\n",
    "\n",
    "np.transpose(causal_attention_mask(1, 10, 10, dtype=tf.int32)[0])"
   ]
  },
  {
   "cell_type": "markdown",
   "id": "3501dbad-0860-40ad-b7d6-47950e37858f",
   "metadata": {},
   "source": [
    "## 6. Create a Transformer Block layer <a name=\"transformer\"></a>"
   ]
  },
  {
   "cell_type": "code",
   "execution_count": 24,
   "id": "5285a1cb-fce1-46b1-b088-b596002fa9ae",
   "metadata": {},
   "outputs": [],
   "source": [
    "class TransformerBlock(keras.layers.Layer):\n",
    "    def __init__(self, num_heads, key_dim, embed_dim, ff_dim, dropout_rate=0.1):\n",
    "        super(TransformerBlock, self).__init__()\n",
    "        self.num_heads = num_heads\n",
    "        self.key_dim = key_dim\n",
    "        self.embed_dim = embed_dim\n",
    "        self.ff_dim = ff_dim\n",
    "        self.dropout_rate = dropout_rate\n",
    "        self.attn = keras.layers.MultiHeadAttention(num_heads, key_dim, output_shape=embed_dim)\n",
    "        self.dropout_1 = keras.layers.Dropout(self.dropout_rate)\n",
    "        self.ln_1 = keras.layers.LayerNormalization(epsilon=1e-6)\n",
    "        self.ffn_1 = keras.layers.Dense(self.ff_dim, activation=\"relu\")\n",
    "        self.ffn_2 = keras.layers.Dense(self.embed_dim)\n",
    "        self.dropout_2 = keras.layers.Dropout(self.dropout_rate)\n",
    "        self.ln_2 = keras.layers.LayerNormalization(epsilon=1e-6)\n",
    "\n",
    "    def call(self, inputs):\n",
    "        input_shape = tf.shape(inputs)\n",
    "        batch_size = input_shape[0]\n",
    "        seq_len = input_shape[1]\n",
    "        causal_mask = causal_attention_mask(batch_size, seq_len, seq_len, tf.bool)\n",
    "        attention_output, attention_scores = self.attn(\n",
    "            inputs, inputs, attention_mask=causal_mask, return_attention_scores=True\n",
    "        )\n",
    "        attention_output = self.dropout_1(attention_output)\n",
    "        out1 = self.ln_1(inputs + attention_output)\n",
    "        ffn_1 = self.ffn_1(out1)\n",
    "        ffn_2 = self.ffn_2(ffn_1)\n",
    "        ffn_output = self.dropout_2(ffn_2)\n",
    "        return (self.ln_2(out1 + ffn_output), attention_scores)\n",
    "\n",
    "    def get_config(self):\n",
    "        config = super().get_config()\n",
    "        config.update(\n",
    "            {\n",
    "                \"key_dim\": self.key_dim,\n",
    "                \"embed_dim\": self.embed_dim,\n",
    "                \"num_heads\": self.num_heads,\n",
    "                \"ff_dim\": self.ff_dim,\n",
    "                \"dropout_rate\": self.dropout_rate,\n",
    "            }\n",
    "        )\n",
    "        return config"
   ]
  },
  {
   "cell_type": "markdown",
   "id": "076a6be0-9796-4974-9bcd-6ebbcfe7514e",
   "metadata": {
    "tags": []
   },
   "source": [
    "## 7. Create the Token and Position Embedding <a name=\"embedder\"></a>"
   ]
  },
  {
   "cell_type": "code",
   "execution_count": 25,
   "id": "fdf5cb25-88ae-4026-9e21-c1e6b5094a2c",
   "metadata": {},
   "outputs": [],
   "source": [
    "class TokenAndPositionEmbedding(keras.layers.Layer):\n",
    "    def __init__(self, max_len, vocab_size, embed_dim):\n",
    "        super(TokenAndPositionEmbedding, self).__init__()\n",
    "        self.max_len = max_len\n",
    "        self.vocab_size = vocab_size\n",
    "        self.embed_dim = embed_dim\n",
    "        self.token_emb = keras.layers.Embedding(input_dim=vocab_size, output_dim=embed_dim)\n",
    "        self.pos_emb = keras.layers.Embedding(input_dim=max_len, output_dim=embed_dim)\n",
    "\n",
    "    def call(self, x):\n",
    "        maxlen = tf.shape(x)[-1]\n",
    "        positions = tf.range(start=0, limit=maxlen, delta=1)\n",
    "        positions = self.pos_emb(positions)\n",
    "        x = self.token_emb(x)\n",
    "        return x + positions\n",
    "\n",
    "    def get_config(self):\n",
    "        config = super().get_config()\n",
    "        config.update(\n",
    "            {\n",
    "                \"max_len\": self.max_len,\n",
    "                \"vocab_size\": self.vocab_size,\n",
    "                \"embed_dim\": self.embed_dim,\n",
    "            }\n",
    "        )\n",
    "        return config"
   ]
  },
  {
   "cell_type": "markdown",
   "id": "aac2e2d4-5980-47e3-b5b0-6c41c0c2d152",
   "metadata": {},
   "source": [
    "## 8. Build the Transformer model <a name=\"transformer_decoder\"></a>"
   ]
  },
  {
   "cell_type": "code",
   "execution_count": 26,
   "id": "8c57596e-e17d-4959-b6e8-7581b0bace3a",
   "metadata": {},
   "outputs": [],
   "source": [
    "inputs = keras.layers.Input(shape=(None,), dtype=tf.int32)\n",
    "x = TokenAndPositionEmbedding(MAX_LEN, VOCAB_SIZE, EMBEDDING_DIM)(inputs)\n",
    "x, attention_scores = TransformerBlock(N_HEADS, KEY_DIM, EMBEDDING_DIM, FEED_FORWARD_DIM)(x)\n",
    "outputs = keras.layers.Dense(VOCAB_SIZE, activation=\"softmax\")(x)\n",
    "model = keras.Model(inputs=inputs, outputs=[outputs, attention_scores])\n",
    "model.compile(\"adam\", loss=[keras.losses.SparseCategoricalCrossentropy(), None])"
   ]
  },
  {
   "cell_type": "code",
   "execution_count": 27,
   "id": "1a1c3b0f-3382-444d-bb04-bae143ae5d61",
   "metadata": {},
   "outputs": [
    {
     "name": "stdout",
     "output_type": "stream",
     "text": [
      "Model: \"model\"\n",
      "_________________________________________________________________\n",
      " Layer (type)                Output Shape              Param #   \n",
      "=================================================================\n",
      " input_1 (InputLayer)        [(None, None)]            0         \n",
      "                                                                 \n",
      " token_and_position_embeddin  (None, None, 256)        2580480   \n",
      " g (TokenAndPositionEmbeddin                                     \n",
      " g)                                                              \n",
      "                                                                 \n",
      " transformer_block (Transfor  ((None, None, 256),      658688    \n",
      " merBlock)                    (None, 2, None, None))             \n",
      "                                                                 \n",
      " dense_2 (Dense)             (None, None, 10000)       2570000   \n",
      "                                                                 \n",
      "=================================================================\n",
      "Total params: 5,809,168\n",
      "Trainable params: 5,809,168\n",
      "Non-trainable params: 0\n",
      "_________________________________________________________________\n"
     ]
    }
   ],
   "source": [
    "model.summary()"
   ]
  },
  {
   "cell_type": "code",
   "execution_count": 28,
   "id": "800a3c6e-fb11-4792-b6bc-9a43a7c977ad",
   "metadata": {
    "tags": []
   },
   "outputs": [],
   "source": [
    "if LOAD_MODEL:\n",
    "    # model.load_weights('./models/model')\n",
    "    model = keras.models.load_model(\"./models/model\", compile=True)"
   ]
  },
  {
   "cell_type": "markdown",
   "id": "35b14665-4359-447b-be58-3fd58ba69084",
   "metadata": {},
   "source": [
    "## 9. Train the Transformer <a name=\"train\"></a>"
   ]
  },
  {
   "cell_type": "code",
   "execution_count": 29,
   "id": "3ddcff5f-829d-4449-99d2-9a3cb68f7d72",
   "metadata": {},
   "outputs": [],
   "source": [
    "# Create a TextGenerator checkpoint\n",
    "class TextGenerator(keras.callbacks.Callback):\n",
    "    def __init__(self, index_to_word, top_k=10):\n",
    "        self.index_to_word = index_to_word\n",
    "        self.word_to_index = {word: index for index, word in enumerate(index_to_word)}\n",
    "\n",
    "    def sample_from(self, probs, temperature):\n",
    "        probs = probs ** (1 / temperature)\n",
    "        probs = probs / np.sum(probs)\n",
    "        return np.random.choice(len(probs), p=probs), probs\n",
    "\n",
    "    def generate(self, start_prompt, max_tokens, temperature):\n",
    "        start_tokens = [self.word_to_index.get(x, 1) for x in start_prompt.split()]\n",
    "        sample_token = None\n",
    "        info = []\n",
    "        while len(start_tokens) < max_tokens and sample_token != 0:\n",
    "            x = np.array([start_tokens])\n",
    "            y, att = self.model.predict(x, verbose=0)\n",
    "            sample_token, probs = self.sample_from(y[0][-1], temperature)\n",
    "            info.append({\"prompt\": start_prompt, \"word_probs\": probs, \"atts\": att[0, :, -1, :]})\n",
    "            start_tokens.append(sample_token)\n",
    "            start_prompt = start_prompt + \" \" + self.index_to_word[sample_token]\n",
    "        print(f\"\\ngenerated text:\\n{start_prompt}\\n\")\n",
    "        return info\n",
    "\n",
    "    def on_epoch_end(self, epoch, logs=None):\n",
    "        self.generate(\"wine review\", max_tokens=100, temperature=1.0)"
   ]
  },
  {
   "cell_type": "code",
   "execution_count": 30,
   "id": "349865fe-ffbe-450e-97be-043ae1740e78",
   "metadata": {},
   "outputs": [],
   "source": [
    "# Create a model save checkpoint\n",
    "model_checkpoint_callback = keras.callbacks.ModelCheckpoint(\n",
    "    filepath=\"./checkpoint/checkpoint.ckpt\",\n",
    "    save_weights_only=True,\n",
    "    save_freq=\"epoch\",\n",
    "    verbose=0,\n",
    ")\n",
    "\n",
    "tensorboard_callback = keras.callbacks.TensorBoard(log_dir=\"./logs\")\n",
    "\n",
    "# Tokenize starting prompt\n",
    "text_generator = TextGenerator(vocab)"
   ]
  },
  {
   "cell_type": "code",
   "execution_count": null,
   "id": "461c2b3e-b5ae-4def-8bd9-e7bab8c63d8e",
   "metadata": {
    "tags": []
   },
   "outputs": [
    {
     "name": "stdout",
     "output_type": "stream",
     "text": [
      "Epoch 1/5\n"
     ]
    },
    {
     "name": "stderr",
     "output_type": "stream",
     "text": [
      "2023-02-06 11:43:45.144246: I tensorflow/compiler/xla/service/service.cc:173] XLA service 0x7f3f5018dac0 initialized for platform CUDA (this does not guarantee that XLA will be used). Devices:\n",
      "2023-02-06 11:43:45.144297: I tensorflow/compiler/xla/service/service.cc:181]   StreamExecutor device (0): Tesla T4, Compute Capability 7.5\n",
      "2023-02-06 11:43:45.182150: I tensorflow/compiler/mlir/tensorflow/utils/dump_mlir_util.cc:268] disabling MLIR crash reproducer, set env var `MLIR_CRASH_REPRODUCER_DIRECTORY` to enable.\n",
      "2023-02-06 11:43:45.605374: I tensorflow/compiler/jit/xla_compilation_cache.cc:477] Compiled cluster using XLA!  This line is logged at most once for the lifetime of the process.\n"
     ]
    },
    {
     "name": "stdout",
     "output_type": "stream",
     "text": [
      "1183/4060 [=======>......................] - ETA: 3:07 - loss: 2.6172 - dense_2_loss: 2.6172"
     ]
    }
   ],
   "source": [
    "model.fit(\n",
    "    train_ds,\n",
    "    epochs=EPOCHS,\n",
    "    # steps_per_epoch = 3,\n",
    "    callbacks=[model_checkpoint_callback, tensorboard_callback, text_generator],\n",
    ")"
   ]
  },
  {
   "cell_type": "code",
   "execution_count": null,
   "id": "369bde44-2e39-4bc6-8549-a3a27ecce55c",
   "metadata": {
    "tags": []
   },
   "outputs": [],
   "source": [
    "# Save the final model\n",
    "model.save(\"./models/model\")"
   ]
  },
  {
   "cell_type": "markdown",
   "id": "d64e02d2-84dc-40c8-8446-40c09adf1e20",
   "metadata": {},
   "source": [
    "# 3. Generate text using the Transformer"
   ]
  },
  {
   "cell_type": "code",
   "execution_count": null,
   "id": "4ad23adb-3ec9-4e9a-9a59-b9f9bafca649",
   "metadata": {},
   "outputs": [],
   "source": [
    "def print_probs(info, vocab, top_k=5):\n",
    "    for i in info:\n",
    "        highlighted_text = []\n",
    "        for word, att_score in zip(i[\"prompt\"].split(), np.mean(i[\"atts\"], axis=0)):\n",
    "            highlighted_text.append(\n",
    "                '<span style=\"background-color:rgba(135,206,250,'\n",
    "                + str(att_score / max(np.mean(i[\"atts\"], axis=0)))\n",
    "                + ');\">'\n",
    "                + word\n",
    "                + \"</span>\"\n",
    "            )\n",
    "        highlighted_text = \" \".join(highlighted_text)\n",
    "        display(HTML(highlighted_text))\n",
    "\n",
    "        word_probs = i[\"word_probs\"]\n",
    "        p_sorted = np.sort(word_probs)[::-1][:top_k]\n",
    "        i_sorted = np.argsort(word_probs)[::-1][:top_k]\n",
    "        for p, i in zip(p_sorted, i_sorted):\n",
    "            print(f\"{vocab[i]}:   \\t{np.round(100*p,2)}%\")\n",
    "        print(\"--------\\n\")"
   ]
  },
  {
   "cell_type": "code",
   "execution_count": null,
   "id": "3cf25578-d47c-4b26-8252-fcdf2316a4ac",
   "metadata": {},
   "outputs": [],
   "source": [
    "info = text_generator.generate(\"wine review : us\", max_tokens=80, temperature=1.0)"
   ]
  },
  {
   "cell_type": "code",
   "execution_count": null,
   "id": "4ae2da8e-9b7c-4b71-b37b-021115b3d7ea",
   "metadata": {},
   "outputs": [],
   "source": [
    "info = text_generator.generate(\"wine review : italy\", max_tokens=80, temperature=0.5)"
   ]
  },
  {
   "cell_type": "code",
   "execution_count": 112,
   "id": "5cae6d5d-263d-4455-b96c-f315cbe284ee",
   "metadata": {},
   "outputs": [
    {
     "name": "stdout",
     "output_type": "stream",
     "text": [
      "\n",
      "generated text:\n",
      "wine review : germany : rheingau : riesling : this is a ripe , full - bodied riesling with a touch of residual sugar . it ' s a slightly sweet , fresh , fruity style , with a zesty , minerally finish that lingers long on the finish . \n",
      "\n"
     ]
    },
    {
     "data": {
      "text/html": [
       "<span style=\"background-color:rgba(135,206,250,0.9023756);\">wine</span> <span style=\"background-color:rgba(135,206,250,1.0);\">review</span> <span style=\"background-color:rgba(135,206,250,0.5597676);\">:</span> <span style=\"background-color:rgba(135,206,250,0.3930026);\">germany</span>"
      ],
      "text/plain": [
       "<IPython.core.display.HTML object>"
      ]
     },
     "metadata": {},
     "output_type": "display_data"
    },
    {
     "name": "stdout",
     "output_type": "stream",
     "text": [
      "::   \t100.0%\n",
      "grosso:   \t0.0%\n",
      "zealand:   \t0.0%\n",
      "-:   \t0.0%\n",
      "africa:   \t0.0%\n",
      "--------\n",
      "\n"
     ]
    },
    {
     "data": {
      "text/html": [
       "<span style=\"background-color:rgba(135,206,250,0.21011218);\">wine</span> <span style=\"background-color:rgba(135,206,250,0.22047575);\">review</span> <span style=\"background-color:rgba(135,206,250,0.26977912);\">:</span> <span style=\"background-color:rgba(135,206,250,1.0);\">germany</span> <span style=\"background-color:rgba(135,206,250,0.30583498);\">:</span>"
      ],
      "text/plain": [
       "<IPython.core.display.HTML object>"
      ]
     },
     "metadata": {},
     "output_type": "display_data"
    },
    {
     "name": "stdout",
     "output_type": "stream",
     "text": [
      "pfalz:   \t51.53%\n",
      "mosel:   \t41.21%\n",
      "rheingau:   \t4.27%\n",
      "rheinhessen:   \t2.16%\n",
      "franken:   \t0.44%\n",
      "--------\n",
      "\n"
     ]
    },
    {
     "data": {
      "text/html": [
       "<span style=\"background-color:rgba(135,206,250,0.8535535);\">wine</span> <span style=\"background-color:rgba(135,206,250,1.0);\">review</span> <span style=\"background-color:rgba(135,206,250,0.42670617);\">:</span> <span style=\"background-color:rgba(135,206,250,0.17368256);\">germany</span> <span style=\"background-color:rgba(135,206,250,0.40614477);\">:</span> <span style=\"background-color:rgba(135,206,250,0.17674573);\">rheingau</span>"
      ],
      "text/plain": [
       "<IPython.core.display.HTML object>"
      ]
     },
     "metadata": {},
     "output_type": "display_data"
    },
    {
     "name": "stdout",
     "output_type": "stream",
     "text": [
      "::   \t100.0%\n",
      "valley:   \t0.0%\n",
      "grosso:   \t0.0%\n",
      "-:   \t0.0%\n",
      "river:   \t0.0%\n",
      "--------\n",
      "\n"
     ]
    },
    {
     "data": {
      "text/html": [
       "<span style=\"background-color:rgba(135,206,250,0.20482893);\">wine</span> <span style=\"background-color:rgba(135,206,250,0.16200155);\">review</span> <span style=\"background-color:rgba(135,206,250,0.14508888);\">:</span> <span style=\"background-color:rgba(135,206,250,0.28936434);\">germany</span> <span style=\"background-color:rgba(135,206,250,0.13157973);\">:</span> <span style=\"background-color:rgba(135,206,250,1.0);\">rheingau</span> <span style=\"background-color:rgba(135,206,250,0.1940238);\">:</span>"
      ],
      "text/plain": [
       "<IPython.core.display.HTML object>"
      ]
     },
     "metadata": {},
     "output_type": "display_data"
    },
    {
     "name": "stdout",
     "output_type": "stream",
     "text": [
      "riesling:   \t99.74%\n",
      "pinot:   \t0.14%\n",
      "gewürztraminer:   \t0.06%\n",
      "cabernet:   \t0.01%\n",
      "grüner:   \t0.01%\n",
      "--------\n",
      "\n"
     ]
    },
    {
     "data": {
      "text/html": [
       "<span style=\"background-color:rgba(135,206,250,0.8455926);\">wine</span> <span style=\"background-color:rgba(135,206,250,1.0);\">review</span> <span style=\"background-color:rgba(135,206,250,0.55401385);\">:</span> <span style=\"background-color:rgba(135,206,250,0.43090048);\">germany</span> <span style=\"background-color:rgba(135,206,250,0.53833395);\">:</span> <span style=\"background-color:rgba(135,206,250,0.4565023);\">rheingau</span> <span style=\"background-color:rgba(135,206,250,0.68567187);\">:</span> <span style=\"background-color:rgba(135,206,250,0.2949252);\">riesling</span>"
      ],
      "text/plain": [
       "<IPython.core.display.HTML object>"
      ]
     },
     "metadata": {},
     "output_type": "display_data"
    },
    {
     "name": "stdout",
     "output_type": "stream",
     "text": [
      "::   \t100.0%\n",
      "grosso:   \t0.0%\n",
      "-:   \t0.0%\n",
      "blanc:   \t0.0%\n",
      "ottonel:   \t0.0%\n",
      "--------\n",
      "\n"
     ]
    },
    {
     "data": {
      "text/html": [
       "<span style=\"background-color:rgba(135,206,250,0.5538871);\">wine</span> <span style=\"background-color:rgba(135,206,250,0.5103018);\">review</span> <span style=\"background-color:rgba(135,206,250,0.5270164);\">:</span> <span style=\"background-color:rgba(135,206,250,0.7914503);\">germany</span> <span style=\"background-color:rgba(135,206,250,0.50483596);\">:</span> <span style=\"background-color:rgba(135,206,250,1.0);\">rheingau</span> <span style=\"background-color:rgba(135,206,250,0.6240426);\">:</span> <span style=\"background-color:rgba(135,206,250,0.784547);\">riesling</span> <span style=\"background-color:rgba(135,206,250,0.55204487);\">:</span>"
      ],
      "text/plain": [
       "<IPython.core.display.HTML object>"
      ]
     },
     "metadata": {},
     "output_type": "display_data"
    },
    {
     "name": "stdout",
     "output_type": "stream",
     "text": [
      "a:   \t26.57%\n",
      "this:   \t16.63%\n",
      "whiffs:   \t9.85%\n",
      "fresh:   \t9.14%\n",
      "while:   \t5.04%\n",
      "--------\n",
      "\n"
     ]
    },
    {
     "data": {
      "text/html": [
       "<span style=\"background-color:rgba(135,206,250,0.71923906);\">wine</span> <span style=\"background-color:rgba(135,206,250,0.6891244);\">review</span> <span style=\"background-color:rgba(135,206,250,0.561769);\">:</span> <span style=\"background-color:rgba(135,206,250,0.8798157);\">germany</span> <span style=\"background-color:rgba(135,206,250,0.56881136);\">:</span> <span style=\"background-color:rgba(135,206,250,0.90033317);\">rheingau</span> <span style=\"background-color:rgba(135,206,250,0.55583376);\">:</span> <span style=\"background-color:rgba(135,206,250,1.0);\">riesling</span> <span style=\"background-color:rgba(135,206,250,0.75355995);\">:</span> <span style=\"background-color:rgba(135,206,250,0.42841098);\">this</span>"
      ],
      "text/plain": [
       "<IPython.core.display.HTML object>"
      ]
     },
     "metadata": {},
     "output_type": "display_data"
    },
    {
     "name": "stdout",
     "output_type": "stream",
     "text": [
      "is:   \t50.62%\n",
      "dry:   \t12.26%\n",
      "wine:   \t11.15%\n",
      "intensely:   \t3.13%\n",
      "off:   \t3.0%\n",
      "--------\n",
      "\n"
     ]
    },
    {
     "data": {
      "text/html": [
       "<span style=\"background-color:rgba(135,206,250,0.8159949);\">wine</span> <span style=\"background-color:rgba(135,206,250,0.84086967);\">review</span> <span style=\"background-color:rgba(135,206,250,0.53050345);\">:</span> <span style=\"background-color:rgba(135,206,250,0.7216018);\">germany</span> <span style=\"background-color:rgba(135,206,250,0.4438788);\">:</span> <span style=\"background-color:rgba(135,206,250,0.96028817);\">rheingau</span> <span style=\"background-color:rgba(135,206,250,0.5743031);\">:</span> <span style=\"background-color:rgba(135,206,250,0.6386808);\">riesling</span> <span style=\"background-color:rgba(135,206,250,0.73404694);\">:</span> <span style=\"background-color:rgba(135,206,250,1.0);\">this</span> <span style=\"background-color:rgba(135,206,250,0.586382);\">is</span>"
      ],
      "text/plain": [
       "<IPython.core.display.HTML object>"
      ]
     },
     "metadata": {},
     "output_type": "display_data"
    },
    {
     "name": "stdout",
     "output_type": "stream",
     "text": [
      "a:   \t95.47%\n",
      "an:   \t3.62%\n",
      "the:   \t0.2%\n",
      "one:   \t0.16%\n",
      "surprisingly:   \t0.07%\n",
      "--------\n",
      "\n"
     ]
    },
    {
     "data": {
      "text/html": [
       "<span style=\"background-color:rgba(135,206,250,0.760359);\">wine</span> <span style=\"background-color:rgba(135,206,250,0.5963456);\">review</span> <span style=\"background-color:rgba(135,206,250,0.47009802);\">:</span> <span style=\"background-color:rgba(135,206,250,0.9172125);\">germany</span> <span style=\"background-color:rgba(135,206,250,0.41836777);\">:</span> <span style=\"background-color:rgba(135,206,250,0.79230565);\">rheingau</span> <span style=\"background-color:rgba(135,206,250,0.38183028);\">:</span> <span style=\"background-color:rgba(135,206,250,0.7397074);\">riesling</span> <span style=\"background-color:rgba(135,206,250,0.586297);\">:</span> <span style=\"background-color:rgba(135,206,250,0.9313949);\">this</span> <span style=\"background-color:rgba(135,206,250,1.0);\">is</span> <span style=\"background-color:rgba(135,206,250,0.5680951);\">a</span>"
      ],
      "text/plain": [
       "<IPython.core.display.HTML object>"
      ]
     },
     "metadata": {},
     "output_type": "display_data"
    },
    {
     "name": "stdout",
     "output_type": "stream",
     "text": [
      "bit:   \t8.36%\n",
      "fresh:   \t7.22%\n",
      "stunning:   \t7.15%\n",
      "big:   \t6.85%\n",
      "gorgeously:   \t6.59%\n",
      "--------\n",
      "\n"
     ]
    },
    {
     "data": {
      "text/html": [
       "<span style=\"background-color:rgba(135,206,250,0.3852667);\">wine</span> <span style=\"background-color:rgba(135,206,250,0.2972094);\">review</span> <span style=\"background-color:rgba(135,206,250,0.23542634);\">:</span> <span style=\"background-color:rgba(135,206,250,0.4553842);\">germany</span> <span style=\"background-color:rgba(135,206,250,0.20476736);\">:</span> <span style=\"background-color:rgba(135,206,250,0.38147432);\">rheingau</span> <span style=\"background-color:rgba(135,206,250,0.21156505);\">:</span> <span style=\"background-color:rgba(135,206,250,0.8803161);\">riesling</span> <span style=\"background-color:rgba(135,206,250,0.34986183);\">:</span> <span style=\"background-color:rgba(135,206,250,0.7489922);\">this</span> <span style=\"background-color:rgba(135,206,250,0.7830462);\">is</span> <span style=\"background-color:rgba(135,206,250,1.0);\">a</span> <span style=\"background-color:rgba(135,206,250,0.31817046);\">ripe</span>"
      ],
      "text/plain": [
       "<IPython.core.display.HTML object>"
      ]
     },
     "metadata": {},
     "output_type": "display_data"
    },
    {
     "name": "stdout",
     "output_type": "stream",
     "text": [
      ",:   \t98.73%\n",
      "and:   \t0.7%\n",
      "wine:   \t0.29%\n",
      "yet:   \t0.2%\n",
      "but:   \t0.05%\n",
      "--------\n",
      "\n"
     ]
    },
    {
     "data": {
      "text/html": [
       "<span style=\"background-color:rgba(135,206,250,0.25220042);\">wine</span> <span style=\"background-color:rgba(135,206,250,0.2355449);\">review</span> <span style=\"background-color:rgba(135,206,250,0.20368305);\">:</span> <span style=\"background-color:rgba(135,206,250,0.35990053);\">germany</span> <span style=\"background-color:rgba(135,206,250,0.18192774);\">:</span> <span style=\"background-color:rgba(135,206,250,0.19094741);\">rheingau</span> <span style=\"background-color:rgba(135,206,250,0.17073227);\">:</span> <span style=\"background-color:rgba(135,206,250,0.37125245);\">riesling</span> <span style=\"background-color:rgba(135,206,250,0.28584722);\">:</span> <span style=\"background-color:rgba(135,206,250,0.56162286);\">this</span> <span style=\"background-color:rgba(135,206,250,0.645552);\">is</span> <span style=\"background-color:rgba(135,206,250,0.5898315);\">a</span> <span style=\"background-color:rgba(135,206,250,1.0);\">ripe</span> <span style=\"background-color:rgba(135,206,250,0.3209083);\">,</span>"
      ],
      "text/plain": [
       "<IPython.core.display.HTML object>"
      ]
     },
     "metadata": {},
     "output_type": "display_data"
    },
    {
     "name": "stdout",
     "output_type": "stream",
     "text": [
      "sunny:   \t36.96%\n",
      "fruity:   \t19.77%\n",
      "full:   \t12.19%\n",
      "juicy:   \t6.0%\n",
      "round:   \t3.8%\n",
      "--------\n",
      "\n"
     ]
    },
    {
     "data": {
      "text/html": [
       "<span style=\"background-color:rgba(135,206,250,0.6452678);\">wine</span> <span style=\"background-color:rgba(135,206,250,0.508342);\">review</span> <span style=\"background-color:rgba(135,206,250,0.4299211);\">:</span> <span style=\"background-color:rgba(135,206,250,0.5476356);\">germany</span> <span style=\"background-color:rgba(135,206,250,0.43667603);\">:</span> <span style=\"background-color:rgba(135,206,250,0.331038);\">rheingau</span> <span style=\"background-color:rgba(135,206,250,0.30037776);\">:</span> <span style=\"background-color:rgba(135,206,250,0.52995515);\">riesling</span> <span style=\"background-color:rgba(135,206,250,0.40675703);\">:</span> <span style=\"background-color:rgba(135,206,250,0.63151294);\">this</span> <span style=\"background-color:rgba(135,206,250,0.7141724);\">is</span> <span style=\"background-color:rgba(135,206,250,0.87085646);\">a</span> <span style=\"background-color:rgba(135,206,250,0.28731862);\">ripe</span> <span style=\"background-color:rgba(135,206,250,1.0);\">,</span> <span style=\"background-color:rgba(135,206,250,0.76326984);\">full</span>"
      ],
      "text/plain": [
       "<IPython.core.display.HTML object>"
      ]
     },
     "metadata": {},
     "output_type": "display_data"
    },
    {
     "name": "stdout",
     "output_type": "stream",
     "text": [
      "-:   \t99.87%\n",
      "bodied:   \t0.08%\n",
      "of:   \t0.04%\n",
      "and:   \t0.0%\n",
      ",:   \t0.0%\n",
      "--------\n",
      "\n"
     ]
    },
    {
     "data": {
      "text/html": [
       "<span style=\"background-color:rgba(135,206,250,0.12585826);\">wine</span> <span style=\"background-color:rgba(135,206,250,0.09778833);\">review</span> <span style=\"background-color:rgba(135,206,250,0.105774015);\">:</span> <span style=\"background-color:rgba(135,206,250,0.13766055);\">germany</span> <span style=\"background-color:rgba(135,206,250,0.112839244);\">:</span> <span style=\"background-color:rgba(135,206,250,0.094480164);\">rheingau</span> <span style=\"background-color:rgba(135,206,250,0.07656426);\">:</span> <span style=\"background-color:rgba(135,206,250,0.17297773);\">riesling</span> <span style=\"background-color:rgba(135,206,250,0.10276197);\">:</span> <span style=\"background-color:rgba(135,206,250,0.09550031);\">this</span> <span style=\"background-color:rgba(135,206,250,0.10365774);\">is</span> <span style=\"background-color:rgba(135,206,250,0.080802396);\">a</span> <span style=\"background-color:rgba(135,206,250,0.10576544);\">ripe</span> <span style=\"background-color:rgba(135,206,250,0.11410984);\">,</span> <span style=\"background-color:rgba(135,206,250,1.0);\">full</span> <span style=\"background-color:rgba(135,206,250,0.06332528);\">-</span>"
      ],
      "text/plain": [
       "<IPython.core.display.HTML object>"
      ]
     },
     "metadata": {},
     "output_type": "display_data"
    },
    {
     "name": "stdout",
     "output_type": "stream",
     "text": [
      "bodied:   \t99.74%\n",
      "flavored:   \t0.13%\n",
      "fruited:   \t0.08%\n",
      "throttle:   \t0.04%\n",
      "force:   \t0.0%\n",
      "--------\n",
      "\n"
     ]
    },
    {
     "data": {
      "text/html": [
       "<span style=\"background-color:rgba(135,206,250,0.43115494);\">wine</span> <span style=\"background-color:rgba(135,206,250,0.29721212);\">review</span> <span style=\"background-color:rgba(135,206,250,0.26947153);\">:</span> <span style=\"background-color:rgba(135,206,250,0.6469247);\">germany</span> <span style=\"background-color:rgba(135,206,250,0.25848815);\">:</span> <span style=\"background-color:rgba(135,206,250,0.2589144);\">rheingau</span> <span style=\"background-color:rgba(135,206,250,0.22693728);\">:</span> <span style=\"background-color:rgba(135,206,250,1.0);\">riesling</span> <span style=\"background-color:rgba(135,206,250,0.39114568);\">:</span> <span style=\"background-color:rgba(135,206,250,0.8338661);\">this</span> <span style=\"background-color:rgba(135,206,250,0.944668);\">is</span> <span style=\"background-color:rgba(135,206,250,0.82203346);\">a</span> <span style=\"background-color:rgba(135,206,250,0.17477758);\">ripe</span> <span style=\"background-color:rgba(135,206,250,0.5258432);\">,</span> <span style=\"background-color:rgba(135,206,250,0.5252545);\">full</span> <span style=\"background-color:rgba(135,206,250,0.36016193);\">-</span> <span style=\"background-color:rgba(135,206,250,0.3784487);\">bodied</span>"
      ],
      "text/plain": [
       "<IPython.core.display.HTML object>"
      ]
     },
     "metadata": {},
     "output_type": "display_data"
    },
    {
     "name": "stdout",
     "output_type": "stream",
     "text": [
      "riesling:   \t46.56%\n",
      ",:   \t27.78%\n",
      "wine:   \t16.88%\n",
      "and:   \t4.58%\n",
      "yet:   \t1.33%\n",
      "--------\n",
      "\n"
     ]
    },
    {
     "data": {
      "text/html": [
       "<span style=\"background-color:rgba(135,206,250,0.62464136);\">wine</span> <span style=\"background-color:rgba(135,206,250,0.7531378);\">review</span> <span style=\"background-color:rgba(135,206,250,0.4594823);\">:</span> <span style=\"background-color:rgba(135,206,250,0.49847353);\">germany</span> <span style=\"background-color:rgba(135,206,250,0.50227195);\">:</span> <span style=\"background-color:rgba(135,206,250,0.17579587);\">rheingau</span> <span style=\"background-color:rgba(135,206,250,0.37078398);\">:</span> <span style=\"background-color:rgba(135,206,250,0.26164633);\">riesling</span> <span style=\"background-color:rgba(135,206,250,0.52913696);\">:</span> <span style=\"background-color:rgba(135,206,250,0.75464684);\">this</span> <span style=\"background-color:rgba(135,206,250,1.0);\">is</span> <span style=\"background-color:rgba(135,206,250,0.8559994);\">a</span> <span style=\"background-color:rgba(135,206,250,0.31923974);\">ripe</span> <span style=\"background-color:rgba(135,206,250,0.7597623);\">,</span> <span style=\"background-color:rgba(135,206,250,0.69654506);\">full</span> <span style=\"background-color:rgba(135,206,250,0.6327789);\">-</span> <span style=\"background-color:rgba(135,206,250,0.70440423);\">bodied</span> <span style=\"background-color:rgba(135,206,250,0.9354599);\">riesling</span>"
      ],
      "text/plain": [
       "<IPython.core.display.HTML object>"
      ]
     },
     "metadata": {},
     "output_type": "display_data"
    },
    {
     "name": "stdout",
     "output_type": "stream",
     "text": [
      "with:   \t62.96%\n",
      "that:   \t19.15%\n",
      ",:   \t12.7%\n",
      ".:   \t3.6%\n",
      "from:   \t1.33%\n",
      "--------\n",
      "\n"
     ]
    },
    {
     "data": {
      "text/html": [
       "<span style=\"background-color:rgba(135,206,250,0.2222809);\">wine</span> <span style=\"background-color:rgba(135,206,250,0.2092209);\">review</span> <span style=\"background-color:rgba(135,206,250,0.3028904);\">:</span> <span style=\"background-color:rgba(135,206,250,0.5988532);\">germany</span> <span style=\"background-color:rgba(135,206,250,0.33095002);\">:</span> <span style=\"background-color:rgba(135,206,250,0.39383468);\">rheingau</span> <span style=\"background-color:rgba(135,206,250,0.19608575);\">:</span> <span style=\"background-color:rgba(135,206,250,0.48693115);\">riesling</span> <span style=\"background-color:rgba(135,206,250,0.2752823);\">:</span> <span style=\"background-color:rgba(135,206,250,0.31508672);\">this</span> <span style=\"background-color:rgba(135,206,250,0.23804967);\">is</span> <span style=\"background-color:rgba(135,206,250,0.21472277);\">a</span> <span style=\"background-color:rgba(135,206,250,0.4177818);\">ripe</span> <span style=\"background-color:rgba(135,206,250,0.28995237);\">,</span> <span style=\"background-color:rgba(135,206,250,0.362048);\">full</span> <span style=\"background-color:rgba(135,206,250,0.35307294);\">-</span> <span style=\"background-color:rgba(135,206,250,1.0);\">bodied</span> <span style=\"background-color:rgba(135,206,250,0.7882964);\">riesling</span> <span style=\"background-color:rgba(135,206,250,0.63109905);\">with</span>"
      ],
      "text/plain": [
       "<IPython.core.display.HTML object>"
      ]
     },
     "metadata": {},
     "output_type": "display_data"
    },
    {
     "name": "stdout",
     "output_type": "stream",
     "text": [
      "a:   \t66.7%\n",
      "notes:   \t7.77%\n",
      "hints:   \t7.62%\n",
      "aromas:   \t6.85%\n",
      "swathes:   \t1.78%\n",
      "--------\n",
      "\n"
     ]
    },
    {
     "data": {
      "text/html": [
       "<span style=\"background-color:rgba(135,206,250,0.16154641);\">wine</span> <span style=\"background-color:rgba(135,206,250,0.118422434);\">review</span> <span style=\"background-color:rgba(135,206,250,0.17068927);\">:</span> <span style=\"background-color:rgba(135,206,250,0.5275696);\">germany</span> <span style=\"background-color:rgba(135,206,250,0.18491508);\">:</span> <span style=\"background-color:rgba(135,206,250,0.2831852);\">rheingau</span> <span style=\"background-color:rgba(135,206,250,0.109969616);\">:</span> <span style=\"background-color:rgba(135,206,250,0.3101925);\">riesling</span> <span style=\"background-color:rgba(135,206,250,0.1495037);\">:</span> <span style=\"background-color:rgba(135,206,250,0.17654984);\">this</span> <span style=\"background-color:rgba(135,206,250,0.14672716);\">is</span> <span style=\"background-color:rgba(135,206,250,0.0753769);\">a</span> <span style=\"background-color:rgba(135,206,250,0.22715023);\">ripe</span> <span style=\"background-color:rgba(135,206,250,0.15046287);\">,</span> <span style=\"background-color:rgba(135,206,250,0.30279747);\">full</span> <span style=\"background-color:rgba(135,206,250,0.15113086);\">-</span> <span style=\"background-color:rgba(135,206,250,0.36162677);\">bodied</span> <span style=\"background-color:rgba(135,206,250,0.57353437);\">riesling</span> <span style=\"background-color:rgba(135,206,250,1.0);\">with</span> <span style=\"background-color:rgba(135,206,250,0.31828552);\">a</span>"
      ],
      "text/plain": [
       "<IPython.core.display.HTML object>"
      ]
     },
     "metadata": {},
     "output_type": "display_data"
    },
    {
     "name": "stdout",
     "output_type": "stream",
     "text": [
      "touch:   \t58.21%\n",
      "hint:   \t16.75%\n",
      "nose:   \t11.43%\n",
      "whiff:   \t3.34%\n",
      "crush:   \t0.64%\n",
      "--------\n",
      "\n"
     ]
    },
    {
     "data": {
      "text/html": [
       "<span style=\"background-color:rgba(135,206,250,0.16692364);\">wine</span> <span style=\"background-color:rgba(135,206,250,0.18954815);\">review</span> <span style=\"background-color:rgba(135,206,250,0.20042728);\">:</span> <span style=\"background-color:rgba(135,206,250,0.27814433);\">germany</span> <span style=\"background-color:rgba(135,206,250,0.23849021);\">:</span> <span style=\"background-color:rgba(135,206,250,0.10736463);\">rheingau</span> <span style=\"background-color:rgba(135,206,250,0.12283326);\">:</span> <span style=\"background-color:rgba(135,206,250,0.14448562);\">riesling</span> <span style=\"background-color:rgba(135,206,250,0.15427403);\">:</span> <span style=\"background-color:rgba(135,206,250,0.15814608);\">this</span> <span style=\"background-color:rgba(135,206,250,0.16831483);\">is</span> <span style=\"background-color:rgba(135,206,250,0.10488548);\">a</span> <span style=\"background-color:rgba(135,206,250,0.15036702);\">ripe</span> <span style=\"background-color:rgba(135,206,250,0.13687392);\">,</span> <span style=\"background-color:rgba(135,206,250,0.24142706);\">full</span> <span style=\"background-color:rgba(135,206,250,0.14992002);\">-</span> <span style=\"background-color:rgba(135,206,250,0.26759213);\">bodied</span> <span style=\"background-color:rgba(135,206,250,0.27960476);\">riesling</span> <span style=\"background-color:rgba(135,206,250,1.0);\">with</span> <span style=\"background-color:rgba(135,206,250,0.4771811);\">a</span> <span style=\"background-color:rgba(135,206,250,0.25906006);\">touch</span>"
      ],
      "text/plain": [
       "<IPython.core.display.HTML object>"
      ]
     },
     "metadata": {},
     "output_type": "display_data"
    },
    {
     "name": "stdout",
     "output_type": "stream",
     "text": [
      "of:   \t100.0%\n",
      "that:   \t0.0%\n",
      "to:   \t0.0%\n",
      "on:   \t0.0%\n",
      "reminiscent:   \t0.0%\n",
      "--------\n",
      "\n"
     ]
    },
    {
     "data": {
      "text/html": [
       "<span style=\"background-color:rgba(135,206,250,0.14171594);\">wine</span> <span style=\"background-color:rgba(135,206,250,0.12611632);\">review</span> <span style=\"background-color:rgba(135,206,250,0.20158143);\">:</span> <span style=\"background-color:rgba(135,206,250,0.4913168);\">germany</span> <span style=\"background-color:rgba(135,206,250,0.21828856);\">:</span> <span style=\"background-color:rgba(135,206,250,0.32786041);\">rheingau</span> <span style=\"background-color:rgba(135,206,250,0.13688402);\">:</span> <span style=\"background-color:rgba(135,206,250,0.5865394);\">riesling</span> <span style=\"background-color:rgba(135,206,250,0.17488861);\">:</span> <span style=\"background-color:rgba(135,206,250,0.26098815);\">this</span> <span style=\"background-color:rgba(135,206,250,0.1556796);\">is</span> <span style=\"background-color:rgba(135,206,250,0.11553424);\">a</span> <span style=\"background-color:rgba(135,206,250,0.23360868);\">ripe</span> <span style=\"background-color:rgba(135,206,250,0.10112937);\">,</span> <span style=\"background-color:rgba(135,206,250,0.20991288);\">full</span> <span style=\"background-color:rgba(135,206,250,0.15858267);\">-</span> <span style=\"background-color:rgba(135,206,250,0.31159452);\">bodied</span> <span style=\"background-color:rgba(135,206,250,0.44352642);\">riesling</span> <span style=\"background-color:rgba(135,206,250,0.48194143);\">with</span> <span style=\"background-color:rgba(135,206,250,0.71519494);\">a</span> <span style=\"background-color:rgba(135,206,250,1.0);\">touch</span> <span style=\"background-color:rgba(135,206,250,0.33859685);\">of</span>"
      ],
      "text/plain": [
       "<IPython.core.display.HTML object>"
      ]
     },
     "metadata": {},
     "output_type": "display_data"
    },
    {
     "name": "stdout",
     "output_type": "stream",
     "text": [
      "petrol:   \t42.37%\n",
      "honey:   \t33.73%\n",
      "sweet:   \t3.49%\n",
      "minerality:   \t3.46%\n",
      "residual:   \t3.46%\n",
      "--------\n",
      "\n"
     ]
    },
    {
     "data": {
      "text/html": [
       "<span style=\"background-color:rgba(135,206,250,0.62802345);\">wine</span> <span style=\"background-color:rgba(135,206,250,0.5224952);\">review</span> <span style=\"background-color:rgba(135,206,250,0.7508121);\">:</span> <span style=\"background-color:rgba(135,206,250,0.91691554);\">germany</span> <span style=\"background-color:rgba(135,206,250,0.94138837);\">:</span> <span style=\"background-color:rgba(135,206,250,0.5998806);\">rheingau</span> <span style=\"background-color:rgba(135,206,250,0.48883);\">:</span> <span style=\"background-color:rgba(135,206,250,1.0);\">riesling</span> <span style=\"background-color:rgba(135,206,250,0.48508352);\">:</span> <span style=\"background-color:rgba(135,206,250,0.387163);\">this</span> <span style=\"background-color:rgba(135,206,250,0.33282956);\">is</span> <span style=\"background-color:rgba(135,206,250,0.3167514);\">a</span> <span style=\"background-color:rgba(135,206,250,0.28676346);\">ripe</span> <span style=\"background-color:rgba(135,206,250,0.35893872);\">,</span> <span style=\"background-color:rgba(135,206,250,0.26852366);\">full</span> <span style=\"background-color:rgba(135,206,250,0.3079615);\">-</span> <span style=\"background-color:rgba(135,206,250,0.4190385);\">bodied</span> <span style=\"background-color:rgba(135,206,250,0.6062025);\">riesling</span> <span style=\"background-color:rgba(135,206,250,0.66687655);\">with</span> <span style=\"background-color:rgba(135,206,250,0.71317637);\">a</span> <span style=\"background-color:rgba(135,206,250,0.895395);\">touch</span> <span style=\"background-color:rgba(135,206,250,0.8128138);\">of</span> <span style=\"background-color:rgba(135,206,250,0.85999537);\">residual</span>"
      ],
      "text/plain": [
       "<IPython.core.display.HTML object>"
      ]
     },
     "metadata": {},
     "output_type": "display_data"
    },
    {
     "name": "stdout",
     "output_type": "stream",
     "text": [
      "sugar:   \t99.99%\n",
      "sweetness:   \t0.01%\n",
      "carbon:   \t0.0%\n",
      "sweet:   \t0.0%\n",
      "[UNK]:   \t0.0%\n",
      "--------\n",
      "\n"
     ]
    },
    {
     "data": {
      "text/html": [
       "<span style=\"background-color:rgba(135,206,250,0.110985324);\">wine</span> <span style=\"background-color:rgba(135,206,250,0.13097925);\">review</span> <span style=\"background-color:rgba(135,206,250,0.14190546);\">:</span> <span style=\"background-color:rgba(135,206,250,0.33160943);\">germany</span> <span style=\"background-color:rgba(135,206,250,0.18992972);\">:</span> <span style=\"background-color:rgba(135,206,250,0.061872765);\">rheingau</span> <span style=\"background-color:rgba(135,206,250,0.09001582);\">:</span> <span style=\"background-color:rgba(135,206,250,0.0966626);\">riesling</span> <span style=\"background-color:rgba(135,206,250,0.10289261);\">:</span> <span style=\"background-color:rgba(135,206,250,0.15875182);\">this</span> <span style=\"background-color:rgba(135,206,250,0.19114023);\">is</span> <span style=\"background-color:rgba(135,206,250,0.08960595);\">a</span> <span style=\"background-color:rgba(135,206,250,0.036437992);\">ripe</span> <span style=\"background-color:rgba(135,206,250,0.05966316);\">,</span> <span style=\"background-color:rgba(135,206,250,0.08912155);\">full</span> <span style=\"background-color:rgba(135,206,250,0.04430414);\">-</span> <span style=\"background-color:rgba(135,206,250,0.05178626);\">bodied</span> <span style=\"background-color:rgba(135,206,250,0.08695604);\">riesling</span> <span style=\"background-color:rgba(135,206,250,0.37279835);\">with</span> <span style=\"background-color:rgba(135,206,250,0.36340514);\">a</span> <span style=\"background-color:rgba(135,206,250,0.34946755);\">touch</span> <span style=\"background-color:rgba(135,206,250,0.41674262);\">of</span> <span style=\"background-color:rgba(135,206,250,1.0);\">residual</span> <span style=\"background-color:rgba(135,206,250,0.29180893);\">sugar</span>"
      ],
      "text/plain": [
       "<IPython.core.display.HTML object>"
      ]
     },
     "metadata": {},
     "output_type": "display_data"
    },
    {
     "name": "stdout",
     "output_type": "stream",
     "text": [
      ".:   \t69.63%\n",
      ",:   \t27.85%\n",
      "in:   \t1.07%\n",
      "and:   \t0.26%\n",
      "to:   \t0.26%\n",
      "--------\n",
      "\n"
     ]
    },
    {
     "data": {
      "text/html": [
       "<span style=\"background-color:rgba(135,206,250,0.32030055);\">wine</span> <span style=\"background-color:rgba(135,206,250,0.24515589);\">review</span> <span style=\"background-color:rgba(135,206,250,0.31371984);\">:</span> <span style=\"background-color:rgba(135,206,250,0.7717758);\">germany</span> <span style=\"background-color:rgba(135,206,250,0.33160755);\">:</span> <span style=\"background-color:rgba(135,206,250,0.27785674);\">rheingau</span> <span style=\"background-color:rgba(135,206,250,0.22305663);\">:</span> <span style=\"background-color:rgba(135,206,250,0.4259875);\">riesling</span> <span style=\"background-color:rgba(135,206,250,0.29498118);\">:</span> <span style=\"background-color:rgba(135,206,250,0.5754597);\">this</span> <span style=\"background-color:rgba(135,206,250,0.39097282);\">is</span> <span style=\"background-color:rgba(135,206,250,0.20454323);\">a</span> <span style=\"background-color:rgba(135,206,250,0.29815978);\">ripe</span> <span style=\"background-color:rgba(135,206,250,0.22899012);\">,</span> <span style=\"background-color:rgba(135,206,250,0.28321573);\">full</span> <span style=\"background-color:rgba(135,206,250,0.27579525);\">-</span> <span style=\"background-color:rgba(135,206,250,0.42591676);\">bodied</span> <span style=\"background-color:rgba(135,206,250,0.45181435);\">riesling</span> <span style=\"background-color:rgba(135,206,250,0.43816558);\">with</span> <span style=\"background-color:rgba(135,206,250,0.325758);\">a</span> <span style=\"background-color:rgba(135,206,250,0.5278445);\">touch</span> <span style=\"background-color:rgba(135,206,250,0.3863279);\">of</span> <span style=\"background-color:rgba(135,206,250,0.7383349);\">residual</span> <span style=\"background-color:rgba(135,206,250,0.7022541);\">sugar</span> <span style=\"background-color:rgba(135,206,250,1.0);\">.</span>"
      ],
      "text/plain": [
       "<IPython.core.display.HTML object>"
      ]
     },
     "metadata": {},
     "output_type": "display_data"
    },
    {
     "name": "stdout",
     "output_type": "stream",
     "text": [
      "it:   \t94.24%\n",
      "the:   \t2.21%\n",
      "off:   \t1.06%\n",
      "there:   \t0.42%\n",
      "while:   \t0.24%\n",
      "--------\n",
      "\n"
     ]
    },
    {
     "data": {
      "text/html": [
       "<span style=\"background-color:rgba(135,206,250,0.07334493);\">wine</span> <span style=\"background-color:rgba(135,206,250,0.0861616);\">review</span> <span style=\"background-color:rgba(135,206,250,0.13532944);\">:</span> <span style=\"background-color:rgba(135,206,250,0.43983135);\">germany</span> <span style=\"background-color:rgba(135,206,250,0.19191688);\">:</span> <span style=\"background-color:rgba(135,206,250,0.18300278);\">rheingau</span> <span style=\"background-color:rgba(135,206,250,0.08087604);\">:</span> <span style=\"background-color:rgba(135,206,250,0.15722598);\">riesling</span> <span style=\"background-color:rgba(135,206,250,0.09379326);\">:</span> <span style=\"background-color:rgba(135,206,250,0.06939705);\">this</span> <span style=\"background-color:rgba(135,206,250,0.06667778);\">is</span> <span style=\"background-color:rgba(135,206,250,0.05088892);\">a</span> <span style=\"background-color:rgba(135,206,250,0.08971114);\">ripe</span> <span style=\"background-color:rgba(135,206,250,0.05193279);\">,</span> <span style=\"background-color:rgba(135,206,250,0.10742948);\">full</span> <span style=\"background-color:rgba(135,206,250,0.04652626);\">-</span> <span style=\"background-color:rgba(135,206,250,0.10037635);\">bodied</span> <span style=\"background-color:rgba(135,206,250,0.09307153);\">riesling</span> <span style=\"background-color:rgba(135,206,250,0.12779573);\">with</span> <span style=\"background-color:rgba(135,206,250,0.12114787);\">a</span> <span style=\"background-color:rgba(135,206,250,0.09877574);\">touch</span> <span style=\"background-color:rgba(135,206,250,0.17973311);\">of</span> <span style=\"background-color:rgba(135,206,250,0.31663316);\">residual</span> <span style=\"background-color:rgba(135,206,250,0.2581989);\">sugar</span> <span style=\"background-color:rgba(135,206,250,1.0);\">.</span> <span style=\"background-color:rgba(135,206,250,0.27931952);\">it</span>"
      ],
      "text/plain": [
       "<IPython.core.display.HTML object>"
      ]
     },
     "metadata": {},
     "output_type": "display_data"
    },
    {
     "name": "stdout",
     "output_type": "stream",
     "text": [
      "':   \t99.98%\n",
      "has:   \t0.01%\n",
      "is:   \t0.01%\n",
      "finishes:   \t0.01%\n",
      "balances:   \t0.0%\n",
      "--------\n",
      "\n"
     ]
    },
    {
     "data": {
      "text/html": [
       "<span style=\"background-color:rgba(135,206,250,0.09690687);\">wine</span> <span style=\"background-color:rgba(135,206,250,0.08602704);\">review</span> <span style=\"background-color:rgba(135,206,250,0.100306936);\">:</span> <span style=\"background-color:rgba(135,206,250,0.17121464);\">germany</span> <span style=\"background-color:rgba(135,206,250,0.1256317);\">:</span> <span style=\"background-color:rgba(135,206,250,0.09387373);\">rheingau</span> <span style=\"background-color:rgba(135,206,250,0.070509955);\">:</span> <span style=\"background-color:rgba(135,206,250,0.1699816);\">riesling</span> <span style=\"background-color:rgba(135,206,250,0.081273474);\">:</span> <span style=\"background-color:rgba(135,206,250,0.08018939);\">this</span> <span style=\"background-color:rgba(135,206,250,0.07677875);\">is</span> <span style=\"background-color:rgba(135,206,250,0.041084256);\">a</span> <span style=\"background-color:rgba(135,206,250,0.06908635);\">ripe</span> <span style=\"background-color:rgba(135,206,250,0.044785395);\">,</span> <span style=\"background-color:rgba(135,206,250,0.07188029);\">full</span> <span style=\"background-color:rgba(135,206,250,0.029301358);\">-</span> <span style=\"background-color:rgba(135,206,250,0.0618083);\">bodied</span> <span style=\"background-color:rgba(135,206,250,0.095183);\">riesling</span> <span style=\"background-color:rgba(135,206,250,0.11249272);\">with</span> <span style=\"background-color:rgba(135,206,250,0.06446533);\">a</span> <span style=\"background-color:rgba(135,206,250,0.078473);\">touch</span> <span style=\"background-color:rgba(135,206,250,0.09316863);\">of</span> <span style=\"background-color:rgba(135,206,250,0.4679055);\">residual</span> <span style=\"background-color:rgba(135,206,250,0.25510213);\">sugar</span> <span style=\"background-color:rgba(135,206,250,0.48257807);\">.</span> <span style=\"background-color:rgba(135,206,250,1.0);\">it</span> <span style=\"background-color:rgba(135,206,250,0.12626478);\">'</span>"
      ],
      "text/plain": [
       "<IPython.core.display.HTML object>"
      ]
     },
     "metadata": {},
     "output_type": "display_data"
    },
    {
     "name": "stdout",
     "output_type": "stream",
     "text": [
      "s:   \t100.0%\n",
      "ll:   \t0.0%\n",
      "11:   \t0.0%\n",
      "t:   \t0.0%\n",
      "[UNK]:   \t0.0%\n",
      "--------\n",
      "\n"
     ]
    },
    {
     "data": {
      "text/html": [
       "<span style=\"background-color:rgba(135,206,250,0.106019005);\">wine</span> <span style=\"background-color:rgba(135,206,250,0.09352528);\">review</span> <span style=\"background-color:rgba(135,206,250,0.14969492);\">:</span> <span style=\"background-color:rgba(135,206,250,0.47303364);\">germany</span> <span style=\"background-color:rgba(135,206,250,0.19866103);\">:</span> <span style=\"background-color:rgba(135,206,250,0.26569682);\">rheingau</span> <span style=\"background-color:rgba(135,206,250,0.10072195);\">:</span> <span style=\"background-color:rgba(135,206,250,0.32603672);\">riesling</span> <span style=\"background-color:rgba(135,206,250,0.12477667);\">:</span> <span style=\"background-color:rgba(135,206,250,0.12150703);\">this</span> <span style=\"background-color:rgba(135,206,250,0.08338616);\">is</span> <span style=\"background-color:rgba(135,206,250,0.0531568);\">a</span> <span style=\"background-color:rgba(135,206,250,0.16293056);\">ripe</span> <span style=\"background-color:rgba(135,206,250,0.061440013);\">,</span> <span style=\"background-color:rgba(135,206,250,0.117317006);\">full</span> <span style=\"background-color:rgba(135,206,250,0.04792947);\">-</span> <span style=\"background-color:rgba(135,206,250,0.13746655);\">bodied</span> <span style=\"background-color:rgba(135,206,250,0.15889694);\">riesling</span> <span style=\"background-color:rgba(135,206,250,0.12745517);\">with</span> <span style=\"background-color:rgba(135,206,250,0.08224691);\">a</span> <span style=\"background-color:rgba(135,206,250,0.09875937);\">touch</span> <span style=\"background-color:rgba(135,206,250,0.12294028);\">of</span> <span style=\"background-color:rgba(135,206,250,0.5097909);\">residual</span> <span style=\"background-color:rgba(135,206,250,0.322402);\">sugar</span> <span style=\"background-color:rgba(135,206,250,0.7975988);\">.</span> <span style=\"background-color:rgba(135,206,250,1.0);\">it</span> <span style=\"background-color:rgba(135,206,250,0.17780006);\">'</span> <span style=\"background-color:rgba(135,206,250,0.33411038);\">s</span>"
      ],
      "text/plain": [
       "<IPython.core.display.HTML object>"
      ]
     },
     "metadata": {},
     "output_type": "display_data"
    },
    {
     "name": "stdout",
     "output_type": "stream",
     "text": [
      "a:   \t53.5%\n",
      "full:   \t3.84%\n",
      "rich:   \t3.29%\n",
      "intensely:   \t3.15%\n",
      "lusciously:   \t3.04%\n",
      "--------\n",
      "\n"
     ]
    },
    {
     "data": {
      "text/html": [
       "<span style=\"background-color:rgba(135,206,250,0.09826385);\">wine</span> <span style=\"background-color:rgba(135,206,250,0.08552882);\">review</span> <span style=\"background-color:rgba(135,206,250,0.15653528);\">:</span> <span style=\"background-color:rgba(135,206,250,0.6853771);\">germany</span> <span style=\"background-color:rgba(135,206,250,0.21414158);\">:</span> <span style=\"background-color:rgba(135,206,250,0.3139656);\">rheingau</span> <span style=\"background-color:rgba(135,206,250,0.09324566);\">:</span> <span style=\"background-color:rgba(135,206,250,0.3499085);\">riesling</span> <span style=\"background-color:rgba(135,206,250,0.115650505);\">:</span> <span style=\"background-color:rgba(135,206,250,0.12111032);\">this</span> <span style=\"background-color:rgba(135,206,250,0.08241714);\">is</span> <span style=\"background-color:rgba(135,206,250,0.043545514);\">a</span> <span style=\"background-color:rgba(135,206,250,0.1506817);\">ripe</span> <span style=\"background-color:rgba(135,206,250,0.052169498);\">,</span> <span style=\"background-color:rgba(135,206,250,0.12915184);\">full</span> <span style=\"background-color:rgba(135,206,250,0.046388563);\">-</span> <span style=\"background-color:rgba(135,206,250,0.14778557);\">bodied</span> <span style=\"background-color:rgba(135,206,250,0.15927128);\">riesling</span> <span style=\"background-color:rgba(135,206,250,0.10550597);\">with</span> <span style=\"background-color:rgba(135,206,250,0.05659007);\">a</span> <span style=\"background-color:rgba(135,206,250,0.11730307);\">touch</span> <span style=\"background-color:rgba(135,206,250,0.13442405);\">of</span> <span style=\"background-color:rgba(135,206,250,0.3537286);\">residual</span> <span style=\"background-color:rgba(135,206,250,0.3074956);\">sugar</span> <span style=\"background-color:rgba(135,206,250,0.7711073);\">.</span> <span style=\"background-color:rgba(135,206,250,0.57388747);\">it</span> <span style=\"background-color:rgba(135,206,250,0.16961378);\">'</span> <span style=\"background-color:rgba(135,206,250,1.0);\">s</span> <span style=\"background-color:rgba(135,206,250,0.40828028);\">a</span>"
      ],
      "text/plain": [
       "<IPython.core.display.HTML object>"
      ]
     },
     "metadata": {},
     "output_type": "display_data"
    },
    {
     "name": "stdout",
     "output_type": "stream",
     "text": [
      "bit:   \t58.58%\n",
      "refreshingly:   \t8.02%\n",
      "rich:   \t4.55%\n",
      "touch:   \t3.14%\n",
      "tad:   \t2.9%\n",
      "--------\n",
      "\n"
     ]
    },
    {
     "data": {
      "text/html": [
       "<span style=\"background-color:rgba(135,206,250,0.18475758);\">wine</span> <span style=\"background-color:rgba(135,206,250,0.1861009);\">review</span> <span style=\"background-color:rgba(135,206,250,0.36335582);\">:</span> <span style=\"background-color:rgba(135,206,250,1.0);\">germany</span> <span style=\"background-color:rgba(135,206,250,0.5406652);\">:</span> <span style=\"background-color:rgba(135,206,250,0.51713234);\">rheingau</span> <span style=\"background-color:rgba(135,206,250,0.23059094);\">:</span> <span style=\"background-color:rgba(135,206,250,0.65872765);\">riesling</span> <span style=\"background-color:rgba(135,206,250,0.21985883);\">:</span> <span style=\"background-color:rgba(135,206,250,0.2053474);\">this</span> <span style=\"background-color:rgba(135,206,250,0.122564495);\">is</span> <span style=\"background-color:rgba(135,206,250,0.10047066);\">a</span> <span style=\"background-color:rgba(135,206,250,0.1991119);\">ripe</span> <span style=\"background-color:rgba(135,206,250,0.10130432);\">,</span> <span style=\"background-color:rgba(135,206,250,0.15363799);\">full</span> <span style=\"background-color:rgba(135,206,250,0.079905435);\">-</span> <span style=\"background-color:rgba(135,206,250,0.22232215);\">bodied</span> <span style=\"background-color:rgba(135,206,250,0.2645156);\">riesling</span> <span style=\"background-color:rgba(135,206,250,0.15717617);\">with</span> <span style=\"background-color:rgba(135,206,250,0.13536452);\">a</span> <span style=\"background-color:rgba(135,206,250,0.14384232);\">touch</span> <span style=\"background-color:rgba(135,206,250,0.15017097);\">of</span> <span style=\"background-color:rgba(135,206,250,0.6849738);\">residual</span> <span style=\"background-color:rgba(135,206,250,0.47754997);\">sugar</span> <span style=\"background-color:rgba(135,206,250,0.8156951);\">.</span> <span style=\"background-color:rgba(135,206,250,0.83302563);\">it</span> <span style=\"background-color:rgba(135,206,250,0.22755505);\">'</span> <span style=\"background-color:rgba(135,206,250,0.91766524);\">s</span> <span style=\"background-color:rgba(135,206,250,0.84432465);\">a</span> <span style=\"background-color:rgba(135,206,250,0.9061863);\">slightly</span>"
      ],
      "text/plain": [
       "<IPython.core.display.HTML object>"
      ]
     },
     "metadata": {},
     "output_type": "display_data"
    },
    {
     "name": "stdout",
     "output_type": "stream",
     "text": [
      "sweet:   \t94.23%\n",
      "oily:   \t1.25%\n",
      "viscous:   \t1.09%\n",
      "bitter:   \t0.88%\n",
      "honeyed:   \t0.66%\n",
      "--------\n",
      "\n"
     ]
    },
    {
     "data": {
      "text/html": [
       "<span style=\"background-color:rgba(135,206,250,0.098263755);\">wine</span> <span style=\"background-color:rgba(135,206,250,0.07902748);\">review</span> <span style=\"background-color:rgba(135,206,250,0.15391582);\">:</span> <span style=\"background-color:rgba(135,206,250,0.53569686);\">germany</span> <span style=\"background-color:rgba(135,206,250,0.20299982);\">:</span> <span style=\"background-color:rgba(135,206,250,0.2696737);\">rheingau</span> <span style=\"background-color:rgba(135,206,250,0.09969993);\">:</span> <span style=\"background-color:rgba(135,206,250,0.58293056);\">riesling</span> <span style=\"background-color:rgba(135,206,250,0.12079387);\">:</span> <span style=\"background-color:rgba(135,206,250,0.09770324);\">this</span> <span style=\"background-color:rgba(135,206,250,0.08275848);\">is</span> <span style=\"background-color:rgba(135,206,250,0.04820465);\">a</span> <span style=\"background-color:rgba(135,206,250,0.06700659);\">ripe</span> <span style=\"background-color:rgba(135,206,250,0.043909386);\">,</span> <span style=\"background-color:rgba(135,206,250,0.048746172);\">full</span> <span style=\"background-color:rgba(135,206,250,0.02338081);\">-</span> <span style=\"background-color:rgba(135,206,250,0.09428122);\">bodied</span> <span style=\"background-color:rgba(135,206,250,0.2162125);\">riesling</span> <span style=\"background-color:rgba(135,206,250,0.08465751);\">with</span> <span style=\"background-color:rgba(135,206,250,0.09166405);\">a</span> <span style=\"background-color:rgba(135,206,250,0.13326485);\">touch</span> <span style=\"background-color:rgba(135,206,250,0.12351487);\">of</span> <span style=\"background-color:rgba(135,206,250,0.18082851);\">residual</span> <span style=\"background-color:rgba(135,206,250,0.20156308);\">sugar</span> <span style=\"background-color:rgba(135,206,250,0.5268358);\">.</span> <span style=\"background-color:rgba(135,206,250,0.43646634);\">it</span> <span style=\"background-color:rgba(135,206,250,0.12574004);\">'</span> <span style=\"background-color:rgba(135,206,250,0.8330972);\">s</span> <span style=\"background-color:rgba(135,206,250,1.0);\">a</span> <span style=\"background-color:rgba(135,206,250,0.5575619);\">slightly</span> <span style=\"background-color:rgba(135,206,250,0.41626313);\">sweet</span>"
      ],
      "text/plain": [
       "<IPython.core.display.HTML object>"
      ]
     },
     "metadata": {},
     "output_type": "display_data"
    },
    {
     "name": "stdout",
     "output_type": "stream",
     "text": [
      "wine:   \t51.09%\n",
      ",:   \t40.57%\n",
      "riesling:   \t6.22%\n",
      "style:   \t0.67%\n",
      "-:   \t0.58%\n",
      "--------\n",
      "\n"
     ]
    },
    {
     "data": {
      "text/html": [
       "<span style=\"background-color:rgba(135,206,250,0.046945784);\">wine</span> <span style=\"background-color:rgba(135,206,250,0.06035026);\">review</span> <span style=\"background-color:rgba(135,206,250,0.08472773);\">:</span> <span style=\"background-color:rgba(135,206,250,0.36644322);\">germany</span> <span style=\"background-color:rgba(135,206,250,0.11075597);\">:</span> <span style=\"background-color:rgba(135,206,250,0.1062795);\">rheingau</span> <span style=\"background-color:rgba(135,206,250,0.061175376);\">:</span> <span style=\"background-color:rgba(135,206,250,0.25598243);\">riesling</span> <span style=\"background-color:rgba(135,206,250,0.085683666);\">:</span> <span style=\"background-color:rgba(135,206,250,0.17193069);\">this</span> <span style=\"background-color:rgba(135,206,250,0.14513192);\">is</span> <span style=\"background-color:rgba(135,206,250,0.03596225);\">a</span> <span style=\"background-color:rgba(135,206,250,0.06931074);\">ripe</span> <span style=\"background-color:rgba(135,206,250,0.030594092);\">,</span> <span style=\"background-color:rgba(135,206,250,0.06265122);\">full</span> <span style=\"background-color:rgba(135,206,250,0.024750024);\">-</span> <span style=\"background-color:rgba(135,206,250,0.050401356);\">bodied</span> <span style=\"background-color:rgba(135,206,250,0.10816745);\">riesling</span> <span style=\"background-color:rgba(135,206,250,0.10799124);\">with</span> <span style=\"background-color:rgba(135,206,250,0.05035474);\">a</span> <span style=\"background-color:rgba(135,206,250,0.06401526);\">touch</span> <span style=\"background-color:rgba(135,206,250,0.055905826);\">of</span> <span style=\"background-color:rgba(135,206,250,0.17285864);\">residual</span> <span style=\"background-color:rgba(135,206,250,0.111940004);\">sugar</span> <span style=\"background-color:rgba(135,206,250,0.3996656);\">.</span> <span style=\"background-color:rgba(135,206,250,0.22878905);\">it</span> <span style=\"background-color:rgba(135,206,250,0.05969275);\">'</span> <span style=\"background-color:rgba(135,206,250,0.53170854);\">s</span> <span style=\"background-color:rgba(135,206,250,0.4729894);\">a</span> <span style=\"background-color:rgba(135,206,250,0.48422647);\">slightly</span> <span style=\"background-color:rgba(135,206,250,1.0);\">sweet</span> <span style=\"background-color:rgba(135,206,250,0.3523221);\">,</span>"
      ],
      "text/plain": [
       "<IPython.core.display.HTML object>"
      ]
     },
     "metadata": {},
     "output_type": "display_data"
    },
    {
     "name": "stdout",
     "output_type": "stream",
     "text": [
      "honeyed:   \t28.64%\n",
      "sunny:   \t19.73%\n",
      "unctuous:   \t7.47%\n",
      "fruity:   \t6.49%\n",
      "sweet:   \t4.59%\n",
      "--------\n",
      "\n"
     ]
    },
    {
     "data": {
      "text/html": [
       "<span style=\"background-color:rgba(135,206,250,0.08271296);\">wine</span> <span style=\"background-color:rgba(135,206,250,0.0780487);\">review</span> <span style=\"background-color:rgba(135,206,250,0.15387982);\">:</span> <span style=\"background-color:rgba(135,206,250,0.5260479);\">germany</span> <span style=\"background-color:rgba(135,206,250,0.22725597);\">:</span> <span style=\"background-color:rgba(135,206,250,0.2210391);\">rheingau</span> <span style=\"background-color:rgba(135,206,250,0.10099679);\">:</span> <span style=\"background-color:rgba(135,206,250,0.459066);\">riesling</span> <span style=\"background-color:rgba(135,206,250,0.10716269);\">:</span> <span style=\"background-color:rgba(135,206,250,0.10514126);\">this</span> <span style=\"background-color:rgba(135,206,250,0.08279297);\">is</span> <span style=\"background-color:rgba(135,206,250,0.050244734);\">a</span> <span style=\"background-color:rgba(135,206,250,0.051811364);\">ripe</span> <span style=\"background-color:rgba(135,206,250,0.04245073);\">,</span> <span style=\"background-color:rgba(135,206,250,0.04196886);\">full</span> <span style=\"background-color:rgba(135,206,250,0.023976102);\">-</span> <span style=\"background-color:rgba(135,206,250,0.083410285);\">bodied</span> <span style=\"background-color:rgba(135,206,250,0.18093097);\">riesling</span> <span style=\"background-color:rgba(135,206,250,0.05899927);\">with</span> <span style=\"background-color:rgba(135,206,250,0.076837145);\">a</span> <span style=\"background-color:rgba(135,206,250,0.09650503);\">touch</span> <span style=\"background-color:rgba(135,206,250,0.08245574);\">of</span> <span style=\"background-color:rgba(135,206,250,0.15166438);\">residual</span> <span style=\"background-color:rgba(135,206,250,0.15943527);\">sugar</span> <span style=\"background-color:rgba(135,206,250,0.3862694);\">.</span> <span style=\"background-color:rgba(135,206,250,0.26142144);\">it</span> <span style=\"background-color:rgba(135,206,250,0.08633612);\">'</span> <span style=\"background-color:rgba(135,206,250,0.50936025);\">s</span> <span style=\"background-color:rgba(135,206,250,0.6195218);\">a</span> <span style=\"background-color:rgba(135,206,250,0.3977253);\">slightly</span> <span style=\"background-color:rgba(135,206,250,0.37859884);\">sweet</span> <span style=\"background-color:rgba(135,206,250,1.0);\">,</span> <span style=\"background-color:rgba(135,206,250,0.53124034);\">fresh</span>"
      ],
      "text/plain": [
       "<IPython.core.display.HTML object>"
      ]
     },
     "metadata": {},
     "output_type": "display_data"
    },
    {
     "name": "stdout",
     "output_type": "stream",
     "text": [
      ",:   \t32.57%\n",
      "wine:   \t31.07%\n",
      "and:   \t19.55%\n",
      "-:   \t8.81%\n",
      "riesling:   \t2.42%\n",
      "--------\n",
      "\n"
     ]
    },
    {
     "data": {
      "text/html": [
       "<span style=\"background-color:rgba(135,206,250,0.03131202);\">wine</span> <span style=\"background-color:rgba(135,206,250,0.041996412);\">review</span> <span style=\"background-color:rgba(135,206,250,0.060134098);\">:</span> <span style=\"background-color:rgba(135,206,250,0.3107261);\">germany</span> <span style=\"background-color:rgba(135,206,250,0.07890673);\">:</span> <span style=\"background-color:rgba(135,206,250,0.08709537);\">rheingau</span> <span style=\"background-color:rgba(135,206,250,0.043986175);\">:</span> <span style=\"background-color:rgba(135,206,250,0.20600744);\">riesling</span> <span style=\"background-color:rgba(135,206,250,0.06304875);\">:</span> <span style=\"background-color:rgba(135,206,250,0.1288627);\">this</span> <span style=\"background-color:rgba(135,206,250,0.10662231);\">is</span> <span style=\"background-color:rgba(135,206,250,0.02526889);\">a</span> <span style=\"background-color:rgba(135,206,250,0.049930245);\">ripe</span> <span style=\"background-color:rgba(135,206,250,0.021197854);\">,</span> <span style=\"background-color:rgba(135,206,250,0.04380444);\">full</span> <span style=\"background-color:rgba(135,206,250,0.016683158);\">-</span> <span style=\"background-color:rgba(135,206,250,0.036174748);\">bodied</span> <span style=\"background-color:rgba(135,206,250,0.08174129);\">riesling</span> <span style=\"background-color:rgba(135,206,250,0.07115665);\">with</span> <span style=\"background-color:rgba(135,206,250,0.030811204);\">a</span> <span style=\"background-color:rgba(135,206,250,0.040076703);\">touch</span> <span style=\"background-color:rgba(135,206,250,0.031558678);\">of</span> <span style=\"background-color:rgba(135,206,250,0.0953612);\">residual</span> <span style=\"background-color:rgba(135,206,250,0.06405218);\">sugar</span> <span style=\"background-color:rgba(135,206,250,0.23042604);\">.</span> <span style=\"background-color:rgba(135,206,250,0.1297288);\">it</span> <span style=\"background-color:rgba(135,206,250,0.02932901);\">'</span> <span style=\"background-color:rgba(135,206,250,0.25217184);\">s</span> <span style=\"background-color:rgba(135,206,250,0.20078619);\">a</span> <span style=\"background-color:rgba(135,206,250,0.21430595);\">slightly</span> <span style=\"background-color:rgba(135,206,250,0.4667968);\">sweet</span> <span style=\"background-color:rgba(135,206,250,0.15754023);\">,</span> <span style=\"background-color:rgba(135,206,250,1.0);\">fresh</span> <span style=\"background-color:rgba(135,206,250,0.29585326);\">,</span>"
      ],
      "text/plain": [
       "<IPython.core.display.HTML object>"
      ]
     },
     "metadata": {},
     "output_type": "display_data"
    },
    {
     "name": "stdout",
     "output_type": "stream",
     "text": [
      "fruity:   \t56.42%\n",
      "sunny:   \t14.27%\n",
      "juicy:   \t5.63%\n",
      "crisp:   \t4.16%\n",
      "floral:   \t2.94%\n",
      "--------\n",
      "\n"
     ]
    },
    {
     "data": {
      "text/html": [
       "<span style=\"background-color:rgba(135,206,250,0.068442844);\">wine</span> <span style=\"background-color:rgba(135,206,250,0.06452229);\">review</span> <span style=\"background-color:rgba(135,206,250,0.11835448);\">:</span> <span style=\"background-color:rgba(135,206,250,0.5074957);\">germany</span> <span style=\"background-color:rgba(135,206,250,0.17124768);\">:</span> <span style=\"background-color:rgba(135,206,250,0.15586834);\">rheingau</span> <span style=\"background-color:rgba(135,206,250,0.08093223);\">:</span> <span style=\"background-color:rgba(135,206,250,0.35257432);\">riesling</span> <span style=\"background-color:rgba(135,206,250,0.09388769);\">:</span> <span style=\"background-color:rgba(135,206,250,0.10544362);\">this</span> <span style=\"background-color:rgba(135,206,250,0.09898672);\">is</span> <span style=\"background-color:rgba(135,206,250,0.04352077);\">a</span> <span style=\"background-color:rgba(135,206,250,0.036299504);\">ripe</span> <span style=\"background-color:rgba(135,206,250,0.033029154);\">,</span> <span style=\"background-color:rgba(135,206,250,0.036893006);\">full</span> <span style=\"background-color:rgba(135,206,250,0.016918307);\">-</span> <span style=\"background-color:rgba(135,206,250,0.050193418);\">bodied</span> <span style=\"background-color:rgba(135,206,250,0.13017385);\">riesling</span> <span style=\"background-color:rgba(135,206,250,0.06088904);\">with</span> <span style=\"background-color:rgba(135,206,250,0.06331045);\">a</span> <span style=\"background-color:rgba(135,206,250,0.08469108);\">touch</span> <span style=\"background-color:rgba(135,206,250,0.07090018);\">of</span> <span style=\"background-color:rgba(135,206,250,0.0967136);\">residual</span> <span style=\"background-color:rgba(135,206,250,0.09264023);\">sugar</span> <span style=\"background-color:rgba(135,206,250,0.37562838);\">.</span> <span style=\"background-color:rgba(135,206,250,0.17952201);\">it</span> <span style=\"background-color:rgba(135,206,250,0.06027153);\">'</span> <span style=\"background-color:rgba(135,206,250,0.3521145);\">s</span> <span style=\"background-color:rgba(135,206,250,0.42037803);\">a</span> <span style=\"background-color:rgba(135,206,250,0.2672036);\">slightly</span> <span style=\"background-color:rgba(135,206,250,0.19064833);\">sweet</span> <span style=\"background-color:rgba(135,206,250,0.51727414);\">,</span> <span style=\"background-color:rgba(135,206,250,0.2065612);\">fresh</span> <span style=\"background-color:rgba(135,206,250,1.0);\">,</span> <span style=\"background-color:rgba(135,206,250,0.5457407);\">fruity</span>"
      ],
      "text/plain": [
       "<IPython.core.display.HTML object>"
      ]
     },
     "metadata": {},
     "output_type": "display_data"
    },
    {
     "name": "stdout",
     "output_type": "stream",
     "text": [
      "wine:   \t76.16%\n",
      "palate:   \t8.65%\n",
      "and:   \t7.04%\n",
      "style:   \t5.37%\n",
      "finish:   \t0.77%\n",
      "--------\n",
      "\n"
     ]
    },
    {
     "data": {
      "text/html": [
       "<span style=\"background-color:rgba(135,206,250,0.10237749);\">wine</span> <span style=\"background-color:rgba(135,206,250,0.11192211);\">review</span> <span style=\"background-color:rgba(135,206,250,0.1928138);\">:</span> <span style=\"background-color:rgba(135,206,250,0.4296482);\">germany</span> <span style=\"background-color:rgba(135,206,250,0.34130716);\">:</span> <span style=\"background-color:rgba(135,206,250,0.12455757);\">rheingau</span> <span style=\"background-color:rgba(135,206,250,0.11713987);\">:</span> <span style=\"background-color:rgba(135,206,250,0.3167221);\">riesling</span> <span style=\"background-color:rgba(135,206,250,0.13178757);\">:</span> <span style=\"background-color:rgba(135,206,250,0.15617152);\">this</span> <span style=\"background-color:rgba(135,206,250,0.14657696);\">is</span> <span style=\"background-color:rgba(135,206,250,0.05623271);\">a</span> <span style=\"background-color:rgba(135,206,250,0.046993442);\">ripe</span> <span style=\"background-color:rgba(135,206,250,0.043825377);\">,</span> <span style=\"background-color:rgba(135,206,250,0.0484865);\">full</span> <span style=\"background-color:rgba(135,206,250,0.029036047);\">-</span> <span style=\"background-color:rgba(135,206,250,0.045635186);\">bodied</span> <span style=\"background-color:rgba(135,206,250,0.09282789);\">riesling</span> <span style=\"background-color:rgba(135,206,250,0.085583195);\">with</span> <span style=\"background-color:rgba(135,206,250,0.06026163);\">a</span> <span style=\"background-color:rgba(135,206,250,0.05778618);\">touch</span> <span style=\"background-color:rgba(135,206,250,0.053612754);\">of</span> <span style=\"background-color:rgba(135,206,250,0.082831904);\">residual</span> <span style=\"background-color:rgba(135,206,250,0.0658805);\">sugar</span> <span style=\"background-color:rgba(135,206,250,0.31466544);\">.</span> <span style=\"background-color:rgba(135,206,250,0.17928386);\">it</span> <span style=\"background-color:rgba(135,206,250,0.059166472);\">'</span> <span style=\"background-color:rgba(135,206,250,0.21737903);\">s</span> <span style=\"background-color:rgba(135,206,250,0.17947173);\">a</span> <span style=\"background-color:rgba(135,206,250,0.19098581);\">slightly</span> <span style=\"background-color:rgba(135,206,250,0.22798474);\">sweet</span> <span style=\"background-color:rgba(135,206,250,0.40951645);\">,</span> <span style=\"background-color:rgba(135,206,250,0.32392243);\">fresh</span> <span style=\"background-color:rgba(135,206,250,0.8094264);\">,</span> <span style=\"background-color:rgba(135,206,250,0.78005606);\">fruity</span> <span style=\"background-color:rgba(135,206,250,1.0);\">style</span>"
      ],
      "text/plain": [
       "<IPython.core.display.HTML object>"
      ]
     },
     "metadata": {},
     "output_type": "display_data"
    },
    {
     "name": "stdout",
     "output_type": "stream",
     "text": [
      "with:   \t45.8%\n",
      "of:   \t29.15%\n",
      ",:   \t18.45%\n",
      "that:   \t4.58%\n",
      "and:   \t1.54%\n",
      "--------\n",
      "\n"
     ]
    },
    {
     "data": {
      "text/html": [
       "<span style=\"background-color:rgba(135,206,250,0.02708236);\">wine</span> <span style=\"background-color:rgba(135,206,250,0.03693739);\">review</span> <span style=\"background-color:rgba(135,206,250,0.04951425);\">:</span> <span style=\"background-color:rgba(135,206,250,0.28292784);\">germany</span> <span style=\"background-color:rgba(135,206,250,0.061100416);\">:</span> <span style=\"background-color:rgba(135,206,250,0.08239548);\">rheingau</span> <span style=\"background-color:rgba(135,206,250,0.037708845);\">:</span> <span style=\"background-color:rgba(135,206,250,0.19754098);\">riesling</span> <span style=\"background-color:rgba(135,206,250,0.05597886);\">:</span> <span style=\"background-color:rgba(135,206,250,0.10476983);\">this</span> <span style=\"background-color:rgba(135,206,250,0.08729001);\">is</span> <span style=\"background-color:rgba(135,206,250,0.02047488);\">a</span> <span style=\"background-color:rgba(135,206,250,0.041557446);\">ripe</span> <span style=\"background-color:rgba(135,206,250,0.017463548);\">,</span> <span style=\"background-color:rgba(135,206,250,0.035615068);\">full</span> <span style=\"background-color:rgba(135,206,250,0.012844968);\">-</span> <span style=\"background-color:rgba(135,206,250,0.03017896);\">bodied</span> <span style=\"background-color:rgba(135,206,250,0.07043606);\">riesling</span> <span style=\"background-color:rgba(135,206,250,0.05544553);\">with</span> <span style=\"background-color:rgba(135,206,250,0.022144604);\">a</span> <span style=\"background-color:rgba(135,206,250,0.02956601);\">touch</span> <span style=\"background-color:rgba(135,206,250,0.021598974);\">of</span> <span style=\"background-color:rgba(135,206,250,0.06346846);\">residual</span> <span style=\"background-color:rgba(135,206,250,0.04318803);\">sugar</span> <span style=\"background-color:rgba(135,206,250,0.15759315);\">.</span> <span style=\"background-color:rgba(135,206,250,0.09026334);\">it</span> <span style=\"background-color:rgba(135,206,250,0.018240973);\">'</span> <span style=\"background-color:rgba(135,206,250,0.12574394);\">s</span> <span style=\"background-color:rgba(135,206,250,0.07276805);\">a</span> <span style=\"background-color:rgba(135,206,250,0.09042453);\">slightly</span> <span style=\"background-color:rgba(135,206,250,0.18826036);\">sweet</span> <span style=\"background-color:rgba(135,206,250,0.06452737);\">,</span> <span style=\"background-color:rgba(135,206,250,0.28861254);\">fresh</span> <span style=\"background-color:rgba(135,206,250,0.102566615);\">,</span> <span style=\"background-color:rgba(135,206,250,0.5916033);\">fruity</span> <span style=\"background-color:rgba(135,206,250,1.0);\">style</span> <span style=\"background-color:rgba(135,206,250,0.23737216);\">,</span>"
      ],
      "text/plain": [
       "<IPython.core.display.HTML object>"
      ]
     },
     "metadata": {},
     "output_type": "display_data"
    },
    {
     "name": "stdout",
     "output_type": "stream",
     "text": [
      "with:   \t87.78%\n",
      "it:   \t9.13%\n",
      "but:   \t2.38%\n",
      "and:   \t0.22%\n",
      "the:   \t0.16%\n",
      "--------\n",
      "\n"
     ]
    },
    {
     "data": {
      "text/html": [
       "<span style=\"background-color:rgba(135,206,250,0.059841517);\">wine</span> <span style=\"background-color:rgba(135,206,250,0.06287984);\">review</span> <span style=\"background-color:rgba(135,206,250,0.17283905);\">:</span> <span style=\"background-color:rgba(135,206,250,0.7763875);\">germany</span> <span style=\"background-color:rgba(135,206,250,0.30847892);\">:</span> <span style=\"background-color:rgba(135,206,250,0.3872888);\">rheingau</span> <span style=\"background-color:rgba(135,206,250,0.10687379);\">:</span> <span style=\"background-color:rgba(135,206,250,0.46394104);\">riesling</span> <span style=\"background-color:rgba(135,206,250,0.108626306);\">:</span> <span style=\"background-color:rgba(135,206,250,0.12176816);\">this</span> <span style=\"background-color:rgba(135,206,250,0.064851135);\">is</span> <span style=\"background-color:rgba(135,206,250,0.041318238);\">a</span> <span style=\"background-color:rgba(135,206,250,0.112665944);\">ripe</span> <span style=\"background-color:rgba(135,206,250,0.037288893);\">,</span> <span style=\"background-color:rgba(135,206,250,0.06454845);\">full</span> <span style=\"background-color:rgba(135,206,250,0.031446215);\">-</span> <span style=\"background-color:rgba(135,206,250,0.12048154);\">bodied</span> <span style=\"background-color:rgba(135,206,250,0.16357152);\">riesling</span> <span style=\"background-color:rgba(135,206,250,0.034076743);\">with</span> <span style=\"background-color:rgba(135,206,250,0.043238387);\">a</span> <span style=\"background-color:rgba(135,206,250,0.058636773);\">touch</span> <span style=\"background-color:rgba(135,206,250,0.030171666);\">of</span> <span style=\"background-color:rgba(135,206,250,0.13449526);\">residual</span> <span style=\"background-color:rgba(135,206,250,0.12787521);\">sugar</span> <span style=\"background-color:rgba(135,206,250,0.18655302);\">.</span> <span style=\"background-color:rgba(135,206,250,0.08757662);\">it</span> <span style=\"background-color:rgba(135,206,250,0.041827567);\">'</span> <span style=\"background-color:rgba(135,206,250,0.10406985);\">s</span> <span style=\"background-color:rgba(135,206,250,0.098763876);\">a</span> <span style=\"background-color:rgba(135,206,250,0.13822368);\">slightly</span> <span style=\"background-color:rgba(135,206,250,0.31623402);\">sweet</span> <span style=\"background-color:rgba(135,206,250,0.19680345);\">,</span> <span style=\"background-color:rgba(135,206,250,0.34637803);\">fresh</span> <span style=\"background-color:rgba(135,206,250,0.32344112);\">,</span> <span style=\"background-color:rgba(135,206,250,0.8072368);\">fruity</span> <span style=\"background-color:rgba(135,206,250,1.0);\">style</span> <span style=\"background-color:rgba(135,206,250,0.7901408);\">,</span> <span style=\"background-color:rgba(135,206,250,0.6409051);\">with</span>"
      ],
      "text/plain": [
       "<IPython.core.display.HTML object>"
      ]
     },
     "metadata": {},
     "output_type": "display_data"
    },
    {
     "name": "stdout",
     "output_type": "stream",
     "text": [
      "a:   \t83.73%\n",
      "hints:   \t5.05%\n",
      "lime:   \t1.27%\n",
      "flavors:   \t1.02%\n",
      "lemon:   \t0.87%\n",
      "--------\n",
      "\n"
     ]
    },
    {
     "data": {
      "text/html": [
       "<span style=\"background-color:rgba(135,206,250,0.041003466);\">wine</span> <span style=\"background-color:rgba(135,206,250,0.040875763);\">review</span> <span style=\"background-color:rgba(135,206,250,0.07782971);\">:</span> <span style=\"background-color:rgba(135,206,250,0.5443454);\">germany</span> <span style=\"background-color:rgba(135,206,250,0.10865602);\">:</span> <span style=\"background-color:rgba(135,206,250,0.24277112);\">rheingau</span> <span style=\"background-color:rgba(135,206,250,0.04943609);\">:</span> <span style=\"background-color:rgba(135,206,250,0.23863465);\">riesling</span> <span style=\"background-color:rgba(135,206,250,0.061005067);\">:</span> <span style=\"background-color:rgba(135,206,250,0.0578247);\">this</span> <span style=\"background-color:rgba(135,206,250,0.036479924);\">is</span> <span style=\"background-color:rgba(135,206,250,0.019720387);\">a</span> <span style=\"background-color:rgba(135,206,250,0.075195774);\">ripe</span> <span style=\"background-color:rgba(135,206,250,0.021338679);\">,</span> <span style=\"background-color:rgba(135,206,250,0.05894125);\">full</span> <span style=\"background-color:rgba(135,206,250,0.018178016);\">-</span> <span style=\"background-color:rgba(135,206,250,0.07585534);\">bodied</span> <span style=\"background-color:rgba(135,206,250,0.08095981);\">riesling</span> <span style=\"background-color:rgba(135,206,250,0.024615664);\">with</span> <span style=\"background-color:rgba(135,206,250,0.018594043);\">a</span> <span style=\"background-color:rgba(135,206,250,0.03933005);\">touch</span> <span style=\"background-color:rgba(135,206,250,0.017763572);\">of</span> <span style=\"background-color:rgba(135,206,250,0.08377968);\">residual</span> <span style=\"background-color:rgba(135,206,250,0.074094675);\">sugar</span> <span style=\"background-color:rgba(135,206,250,0.099906966);\">.</span> <span style=\"background-color:rgba(135,206,250,0.048299495);\">it</span> <span style=\"background-color:rgba(135,206,250,0.01974551);\">'</span> <span style=\"background-color:rgba(135,206,250,0.059200287);\">s</span> <span style=\"background-color:rgba(135,206,250,0.032165803);\">a</span> <span style=\"background-color:rgba(135,206,250,0.07501359);\">slightly</span> <span style=\"background-color:rgba(135,206,250,0.15214533);\">sweet</span> <span style=\"background-color:rgba(135,206,250,0.10019304);\">,</span> <span style=\"background-color:rgba(135,206,250,0.15338135);\">fresh</span> <span style=\"background-color:rgba(135,206,250,0.1814994);\">,</span> <span style=\"background-color:rgba(135,206,250,0.32287008);\">fruity</span> <span style=\"background-color:rgba(135,206,250,0.40375918);\">style</span> <span style=\"background-color:rgba(135,206,250,0.420585);\">,</span> <span style=\"background-color:rgba(135,206,250,1.0);\">with</span> <span style=\"background-color:rgba(135,206,250,0.32556665);\">a</span>"
      ],
      "text/plain": [
       "<IPython.core.display.HTML object>"
      ]
     },
     "metadata": {},
     "output_type": "display_data"
    },
    {
     "name": "stdout",
     "output_type": "stream",
     "text": [
      "touch:   \t61.72%\n",
      "hint:   \t15.19%\n",
      "honeyed:   \t3.68%\n",
      "lingering:   \t2.79%\n",
      "delicate:   \t2.43%\n",
      "--------\n",
      "\n"
     ]
    },
    {
     "data": {
      "text/html": [
       "<span style=\"background-color:rgba(135,206,250,0.043514956);\">wine</span> <span style=\"background-color:rgba(135,206,250,0.043750577);\">review</span> <span style=\"background-color:rgba(135,206,250,0.08177815);\">:</span> <span style=\"background-color:rgba(135,206,250,0.46550432);\">germany</span> <span style=\"background-color:rgba(135,206,250,0.111553945);\">:</span> <span style=\"background-color:rgba(135,206,250,0.14817163);\">rheingau</span> <span style=\"background-color:rgba(135,206,250,0.05950448);\">:</span> <span style=\"background-color:rgba(135,206,250,0.32424507);\">riesling</span> <span style=\"background-color:rgba(135,206,250,0.06578614);\">:</span> <span style=\"background-color:rgba(135,206,250,0.07363714);\">this</span> <span style=\"background-color:rgba(135,206,250,0.06075157);\">is</span> <span style=\"background-color:rgba(135,206,250,0.026679287);\">a</span> <span style=\"background-color:rgba(135,206,250,0.021069251);\">ripe</span> <span style=\"background-color:rgba(135,206,250,0.02128446);\">,</span> <span style=\"background-color:rgba(135,206,250,0.021482462);\">full</span> <span style=\"background-color:rgba(135,206,250,0.010529086);\">-</span> <span style=\"background-color:rgba(135,206,250,0.036805112);\">bodied</span> <span style=\"background-color:rgba(135,206,250,0.10291194);\">riesling</span> <span style=\"background-color:rgba(135,206,250,0.029061891);\">with</span> <span style=\"background-color:rgba(135,206,250,0.029157756);\">a</span> <span style=\"background-color:rgba(135,206,250,0.045050625);\">touch</span> <span style=\"background-color:rgba(135,206,250,0.029752634);\">of</span> <span style=\"background-color:rgba(135,206,250,0.06578586);\">residual</span> <span style=\"background-color:rgba(135,206,250,0.058225427);\">sugar</span> <span style=\"background-color:rgba(135,206,250,0.16778508);\">.</span> <span style=\"background-color:rgba(135,206,250,0.06277828);\">it</span> <span style=\"background-color:rgba(135,206,250,0.02190723);\">'</span> <span style=\"background-color:rgba(135,206,250,0.102022566);\">s</span> <span style=\"background-color:rgba(135,206,250,0.06191341);\">a</span> <span style=\"background-color:rgba(135,206,250,0.066134796);\">slightly</span> <span style=\"background-color:rgba(135,206,250,0.07557763);\">sweet</span> <span style=\"background-color:rgba(135,206,250,0.07993107);\">,</span> <span style=\"background-color:rgba(135,206,250,0.05390751);\">fresh</span> <span style=\"background-color:rgba(135,206,250,0.1309542);\">,</span> <span style=\"background-color:rgba(135,206,250,0.16385438);\">fruity</span> <span style=\"background-color:rgba(135,206,250,0.39556906);\">style</span> <span style=\"background-color:rgba(135,206,250,0.29300782);\">,</span> <span style=\"background-color:rgba(135,206,250,0.9632859);\">with</span> <span style=\"background-color:rgba(135,206,250,1.0);\">a</span> <span style=\"background-color:rgba(135,206,250,0.32401982);\">zesty</span>"
      ],
      "text/plain": [
       "<IPython.core.display.HTML object>"
      ]
     },
     "metadata": {},
     "output_type": "display_data"
    },
    {
     "name": "stdout",
     "output_type": "stream",
     "text": [
      ",:   \t72.54%\n",
      "finish:   \t9.37%\n",
      "lime:   \t9.02%\n",
      "streak:   \t1.68%\n",
      "mouthfeel:   \t1.52%\n",
      "--------\n",
      "\n"
     ]
    },
    {
     "data": {
      "text/html": [
       "<span style=\"background-color:rgba(135,206,250,0.026125526);\">wine</span> <span style=\"background-color:rgba(135,206,250,0.03774595);\">review</span> <span style=\"background-color:rgba(135,206,250,0.051302552);\">:</span> <span style=\"background-color:rgba(135,206,250,0.35180134);\">germany</span> <span style=\"background-color:rgba(135,206,250,0.06104364);\">:</span> <span style=\"background-color:rgba(135,206,250,0.10564286);\">rheingau</span> <span style=\"background-color:rgba(135,206,250,0.04070109);\">:</span> <span style=\"background-color:rgba(135,206,250,0.23642343);\">riesling</span> <span style=\"background-color:rgba(135,206,250,0.06173072);\">:</span> <span style=\"background-color:rgba(135,206,250,0.109494485);\">this</span> <span style=\"background-color:rgba(135,206,250,0.09160475);\">is</span> <span style=\"background-color:rgba(135,206,250,0.02151408);\">a</span> <span style=\"background-color:rgba(135,206,250,0.046295807);\">ripe</span> <span style=\"background-color:rgba(135,206,250,0.018041214);\">,</span> <span style=\"background-color:rgba(135,206,250,0.037784033);\">full</span> <span style=\"background-color:rgba(135,206,250,0.013485588);\">-</span> <span style=\"background-color:rgba(135,206,250,0.033487484);\">bodied</span> <span style=\"background-color:rgba(135,206,250,0.08026349);\">riesling</span> <span style=\"background-color:rgba(135,206,250,0.05346932);\">with</span> <span style=\"background-color:rgba(135,206,250,0.02116005);\">a</span> <span style=\"background-color:rgba(135,206,250,0.028887039);\">touch</span> <span style=\"background-color:rgba(135,206,250,0.019458143);\">of</span> <span style=\"background-color:rgba(135,206,250,0.06275443);\">residual</span> <span style=\"background-color:rgba(135,206,250,0.04235292);\">sugar</span> <span style=\"background-color:rgba(135,206,250,0.14711145);\">.</span> <span style=\"background-color:rgba(135,206,250,0.07859213);\">it</span> <span style=\"background-color:rgba(135,206,250,0.016366702);\">'</span> <span style=\"background-color:rgba(135,206,250,0.10099932);\">s</span> <span style=\"background-color:rgba(135,206,250,0.041953906);\">a</span> <span style=\"background-color:rgba(135,206,250,0.061599024);\">slightly</span> <span style=\"background-color:rgba(135,206,250,0.1320113);\">sweet</span> <span style=\"background-color:rgba(135,206,250,0.041217785);\">,</span> <span style=\"background-color:rgba(135,206,250,0.13543618);\">fresh</span> <span style=\"background-color:rgba(135,206,250,0.053876657);\">,</span> <span style=\"background-color:rgba(135,206,250,0.25876474);\">fruity</span> <span style=\"background-color:rgba(135,206,250,0.3310608);\">style</span> <span style=\"background-color:rgba(135,206,250,0.09839211);\">,</span> <span style=\"background-color:rgba(135,206,250,0.5613351);\">with</span> <span style=\"background-color:rgba(135,206,250,0.6263749);\">a</span> <span style=\"background-color:rgba(135,206,250,1.0);\">zesty</span> <span style=\"background-color:rgba(135,206,250,0.27858624);\">,</span>"
      ],
      "text/plain": [
       "<IPython.core.display.HTML object>"
      ]
     },
     "metadata": {},
     "output_type": "display_data"
    },
    {
     "name": "stdout",
     "output_type": "stream",
     "text": [
      "sunny:   \t14.49%\n",
      "zesty:   \t11.89%\n",
      "steely:   \t11.77%\n",
      "minerally:   \t8.03%\n",
      "mineral:   \t7.28%\n",
      "--------\n",
      "\n"
     ]
    },
    {
     "data": {
      "text/html": [
       "<span style=\"background-color:rgba(135,206,250,0.06398483);\">wine</span> <span style=\"background-color:rgba(135,206,250,0.061886355);\">review</span> <span style=\"background-color:rgba(135,206,250,0.1051405);\">:</span> <span style=\"background-color:rgba(135,206,250,0.44785574);\">germany</span> <span style=\"background-color:rgba(135,206,250,0.14301838);\">:</span> <span style=\"background-color:rgba(135,206,250,0.17086722);\">rheingau</span> <span style=\"background-color:rgba(135,206,250,0.085377984);\">:</span> <span style=\"background-color:rgba(135,206,250,0.36755687);\">riesling</span> <span style=\"background-color:rgba(135,206,250,0.08897047);\">:</span> <span style=\"background-color:rgba(135,206,250,0.0847377);\">this</span> <span style=\"background-color:rgba(135,206,250,0.07663302);\">is</span> <span style=\"background-color:rgba(135,206,250,0.04309771);\">a</span> <span style=\"background-color:rgba(135,206,250,0.029240211);\">ripe</span> <span style=\"background-color:rgba(135,206,250,0.031377755);\">,</span> <span style=\"background-color:rgba(135,206,250,0.027210345);\">full</span> <span style=\"background-color:rgba(135,206,250,0.014771056);\">-</span> <span style=\"background-color:rgba(135,206,250,0.044022284);\">bodied</span> <span style=\"background-color:rgba(135,206,250,0.12222674);\">riesling</span> <span style=\"background-color:rgba(135,206,250,0.039316066);\">with</span> <span style=\"background-color:rgba(135,206,250,0.04510694);\">a</span> <span style=\"background-color:rgba(135,206,250,0.05751865);\">touch</span> <span style=\"background-color:rgba(135,206,250,0.041444205);\">of</span> <span style=\"background-color:rgba(135,206,250,0.0682522);\">residual</span> <span style=\"background-color:rgba(135,206,250,0.06583022);\">sugar</span> <span style=\"background-color:rgba(135,206,250,0.17635444);\">.</span> <span style=\"background-color:rgba(135,206,250,0.07193045);\">it</span> <span style=\"background-color:rgba(135,206,250,0.033559963);\">'</span> <span style=\"background-color:rgba(135,206,250,0.109668374);\">s</span> <span style=\"background-color:rgba(135,206,250,0.08761027);\">a</span> <span style=\"background-color:rgba(135,206,250,0.07911958);\">slightly</span> <span style=\"background-color:rgba(135,206,250,0.08493955);\">sweet</span> <span style=\"background-color:rgba(135,206,250,0.08302287);\">,</span> <span style=\"background-color:rgba(135,206,250,0.068233915);\">fresh</span> <span style=\"background-color:rgba(135,206,250,0.11490431);\">,</span> <span style=\"background-color:rgba(135,206,250,0.16373262);\">fruity</span> <span style=\"background-color:rgba(135,206,250,0.4514846);\">style</span> <span style=\"background-color:rgba(135,206,250,0.21121632);\">,</span> <span style=\"background-color:rgba(135,206,250,0.6924707);\">with</span> <span style=\"background-color:rgba(135,206,250,1.0);\">a</span> <span style=\"background-color:rgba(135,206,250,0.2880234);\">zesty</span> <span style=\"background-color:rgba(135,206,250,0.6245235);\">,</span> <span style=\"background-color:rgba(135,206,250,0.48370975);\">minerally</span>"
      ],
      "text/plain": [
       "<IPython.core.display.HTML object>"
      ]
     },
     "metadata": {},
     "output_type": "display_data"
    },
    {
     "name": "stdout",
     "output_type": "stream",
     "text": [
      "finish:   \t81.6%\n",
      "tone:   \t8.24%\n",
      ",:   \t3.68%\n",
      "mouthfeel:   \t1.02%\n",
      "edge:   \t0.89%\n",
      "--------\n",
      "\n"
     ]
    },
    {
     "data": {
      "text/html": [
       "<span style=\"background-color:rgba(135,206,250,0.068213135);\">wine</span> <span style=\"background-color:rgba(135,206,250,0.12807806);\">review</span> <span style=\"background-color:rgba(135,206,250,0.18844287);\">:</span> <span style=\"background-color:rgba(135,206,250,0.73016846);\">germany</span> <span style=\"background-color:rgba(135,206,250,0.30012128);\">:</span> <span style=\"background-color:rgba(135,206,250,0.20033792);\">rheingau</span> <span style=\"background-color:rgba(135,206,250,0.11722378);\">:</span> <span style=\"background-color:rgba(135,206,250,0.21553385);\">riesling</span> <span style=\"background-color:rgba(135,206,250,0.1250102);\">:</span> <span style=\"background-color:rgba(135,206,250,0.094850145);\">this</span> <span style=\"background-color:rgba(135,206,250,0.08648351);\">is</span> <span style=\"background-color:rgba(135,206,250,0.048353393);\">a</span> <span style=\"background-color:rgba(135,206,250,0.06586743);\">ripe</span> <span style=\"background-color:rgba(135,206,250,0.032164454);\">,</span> <span style=\"background-color:rgba(135,206,250,0.07872456);\">full</span> <span style=\"background-color:rgba(135,206,250,0.026334483);\">-</span> <span style=\"background-color:rgba(135,206,250,0.051066294);\">bodied</span> <span style=\"background-color:rgba(135,206,250,0.055649);\">riesling</span> <span style=\"background-color:rgba(135,206,250,0.07397633);\">with</span> <span style=\"background-color:rgba(135,206,250,0.04623797);\">a</span> <span style=\"background-color:rgba(135,206,250,0.036637206);\">touch</span> <span style=\"background-color:rgba(135,206,250,0.029644778);\">of</span> <span style=\"background-color:rgba(135,206,250,0.06673681);\">residual</span> <span style=\"background-color:rgba(135,206,250,0.041013557);\">sugar</span> <span style=\"background-color:rgba(135,206,250,0.24498996);\">.</span> <span style=\"background-color:rgba(135,206,250,0.08498402);\">it</span> <span style=\"background-color:rgba(135,206,250,0.035542917);\">'</span> <span style=\"background-color:rgba(135,206,250,0.1024279);\">s</span> <span style=\"background-color:rgba(135,206,250,0.089050576);\">a</span> <span style=\"background-color:rgba(135,206,250,0.11065338);\">slightly</span> <span style=\"background-color:rgba(135,206,250,0.15179689);\">sweet</span> <span style=\"background-color:rgba(135,206,250,0.10904145);\">,</span> <span style=\"background-color:rgba(135,206,250,0.1430177);\">fresh</span> <span style=\"background-color:rgba(135,206,250,0.1531702);\">,</span> <span style=\"background-color:rgba(135,206,250,0.2604602);\">fruity</span> <span style=\"background-color:rgba(135,206,250,0.23286569);\">style</span> <span style=\"background-color:rgba(135,206,250,0.29434022);\">,</span> <span style=\"background-color:rgba(135,206,250,0.7433626);\">with</span> <span style=\"background-color:rgba(135,206,250,0.7463752);\">a</span> <span style=\"background-color:rgba(135,206,250,0.8396819);\">zesty</span> <span style=\"background-color:rgba(135,206,250,0.7900316);\">,</span> <span style=\"background-color:rgba(135,206,250,1.0);\">minerally</span> <span style=\"background-color:rgba(135,206,250,0.66689813);\">finish</span>"
      ],
      "text/plain": [
       "<IPython.core.display.HTML object>"
      ]
     },
     "metadata": {},
     "output_type": "display_data"
    },
    {
     "name": "stdout",
     "output_type": "stream",
     "text": [
      ".:   \t96.96%\n",
      "that:   \t2.61%\n",
      "and:   \t0.18%\n",
      ",:   \t0.12%\n",
      "marked:   \t0.05%\n",
      "--------\n",
      "\n"
     ]
    },
    {
     "data": {
      "text/html": [
       "<span style=\"background-color:rgba(135,206,250,0.025779916);\">wine</span> <span style=\"background-color:rgba(135,206,250,0.035998866);\">review</span> <span style=\"background-color:rgba(135,206,250,0.060934994);\">:</span> <span style=\"background-color:rgba(135,206,250,0.3884709);\">germany</span> <span style=\"background-color:rgba(135,206,250,0.072412245);\">:</span> <span style=\"background-color:rgba(135,206,250,0.16378354);\">rheingau</span> <span style=\"background-color:rgba(135,206,250,0.039520744);\">:</span> <span style=\"background-color:rgba(135,206,250,0.109850936);\">riesling</span> <span style=\"background-color:rgba(135,206,250,0.04301684);\">:</span> <span style=\"background-color:rgba(135,206,250,0.029963236);\">this</span> <span style=\"background-color:rgba(135,206,250,0.022997472);\">is</span> <span style=\"background-color:rgba(135,206,250,0.017716186);\">a</span> <span style=\"background-color:rgba(135,206,250,0.036105394);\">ripe</span> <span style=\"background-color:rgba(135,206,250,0.014510652);\">,</span> <span style=\"background-color:rgba(135,206,250,0.040114656);\">full</span> <span style=\"background-color:rgba(135,206,250,0.0119251115);\">-</span> <span style=\"background-color:rgba(135,206,250,0.041955862);\">bodied</span> <span style=\"background-color:rgba(135,206,250,0.040896393);\">riesling</span> <span style=\"background-color:rgba(135,206,250,0.020314937);\">with</span> <span style=\"background-color:rgba(135,206,250,0.017273242);\">a</span> <span style=\"background-color:rgba(135,206,250,0.02562034);\">touch</span> <span style=\"background-color:rgba(135,206,250,0.01272816);\">of</span> <span style=\"background-color:rgba(135,206,250,0.048490472);\">residual</span> <span style=\"background-color:rgba(135,206,250,0.033230003);\">sugar</span> <span style=\"background-color:rgba(135,206,250,0.06940174);\">.</span> <span style=\"background-color:rgba(135,206,250,0.023879973);\">it</span> <span style=\"background-color:rgba(135,206,250,0.013922838);\">'</span> <span style=\"background-color:rgba(135,206,250,0.032801993);\">s</span> <span style=\"background-color:rgba(135,206,250,0.028143669);\">a</span> <span style=\"background-color:rgba(135,206,250,0.047945555);\">slightly</span> <span style=\"background-color:rgba(135,206,250,0.063995026);\">sweet</span> <span style=\"background-color:rgba(135,206,250,0.028421396);\">,</span> <span style=\"background-color:rgba(135,206,250,0.051841658);\">fresh</span> <span style=\"background-color:rgba(135,206,250,0.033769842);\">,</span> <span style=\"background-color:rgba(135,206,250,0.110004105);\">fruity</span> <span style=\"background-color:rgba(135,206,250,0.15819708);\">style</span> <span style=\"background-color:rgba(135,206,250,0.061036523);\">,</span> <span style=\"background-color:rgba(135,206,250,0.19685431);\">with</span> <span style=\"background-color:rgba(135,206,250,0.35304078);\">a</span> <span style=\"background-color:rgba(135,206,250,0.24293964);\">zesty</span> <span style=\"background-color:rgba(135,206,250,0.18328407);\">,</span> <span style=\"background-color:rgba(135,206,250,0.3252186);\">minerally</span> <span style=\"background-color:rgba(135,206,250,1.0);\">finish</span> <span style=\"background-color:rgba(135,206,250,0.27529022);\">that</span>"
      ],
      "text/plain": [
       "<IPython.core.display.HTML object>"
      ]
     },
     "metadata": {},
     "output_type": "display_data"
    },
    {
     "name": "stdout",
     "output_type": "stream",
     "text": [
      "':   \t64.65%\n",
      "lingers:   \t26.49%\n",
      "is:   \t4.46%\n",
      "should:   \t1.07%\n",
      "adds:   \t0.37%\n",
      "--------\n",
      "\n"
     ]
    },
    {
     "data": {
      "text/html": [
       "<span style=\"background-color:rgba(135,206,250,0.13442264);\">wine</span> <span style=\"background-color:rgba(135,206,250,0.13141632);\">review</span> <span style=\"background-color:rgba(135,206,250,0.35688952);\">:</span> <span style=\"background-color:rgba(135,206,250,1.0);\">germany</span> <span style=\"background-color:rgba(135,206,250,0.6623228);\">:</span> <span style=\"background-color:rgba(135,206,250,0.4326175);\">rheingau</span> <span style=\"background-color:rgba(135,206,250,0.28759354);\">:</span> <span style=\"background-color:rgba(135,206,250,0.4159106);\">riesling</span> <span style=\"background-color:rgba(135,206,250,0.15302831);\">:</span> <span style=\"background-color:rgba(135,206,250,0.08940442);\">this</span> <span style=\"background-color:rgba(135,206,250,0.06328478);\">is</span> <span style=\"background-color:rgba(135,206,250,0.055480123);\">a</span> <span style=\"background-color:rgba(135,206,250,0.05633112);\">ripe</span> <span style=\"background-color:rgba(135,206,250,0.044034477);\">,</span> <span style=\"background-color:rgba(135,206,250,0.058216695);\">full</span> <span style=\"background-color:rgba(135,206,250,0.029424397);\">-</span> <span style=\"background-color:rgba(135,206,250,0.07307006);\">bodied</span> <span style=\"background-color:rgba(135,206,250,0.09343406);\">riesling</span> <span style=\"background-color:rgba(135,206,250,0.04675752);\">with</span> <span style=\"background-color:rgba(135,206,250,0.04291682);\">a</span> <span style=\"background-color:rgba(135,206,250,0.05706193);\">touch</span> <span style=\"background-color:rgba(135,206,250,0.0360771);\">of</span> <span style=\"background-color:rgba(135,206,250,0.08949981);\">residual</span> <span style=\"background-color:rgba(135,206,250,0.06061011);\">sugar</span> <span style=\"background-color:rgba(135,206,250,0.13717112);\">.</span> <span style=\"background-color:rgba(135,206,250,0.05550834);\">it</span> <span style=\"background-color:rgba(135,206,250,0.0343516);\">'</span> <span style=\"background-color:rgba(135,206,250,0.06801395);\">s</span> <span style=\"background-color:rgba(135,206,250,0.05872096);\">a</span> <span style=\"background-color:rgba(135,206,250,0.09146012);\">slightly</span> <span style=\"background-color:rgba(135,206,250,0.092385195);\">sweet</span> <span style=\"background-color:rgba(135,206,250,0.078765646);\">,</span> <span style=\"background-color:rgba(135,206,250,0.07504885);\">fresh</span> <span style=\"background-color:rgba(135,206,250,0.0974535);\">,</span> <span style=\"background-color:rgba(135,206,250,0.16814458);\">fruity</span> <span style=\"background-color:rgba(135,206,250,0.17415573);\">style</span> <span style=\"background-color:rgba(135,206,250,0.15571763);\">,</span> <span style=\"background-color:rgba(135,206,250,0.20121534);\">with</span> <span style=\"background-color:rgba(135,206,250,0.22517586);\">a</span> <span style=\"background-color:rgba(135,206,250,0.22102213);\">zesty</span> <span style=\"background-color:rgba(135,206,250,0.33871362);\">,</span> <span style=\"background-color:rgba(135,206,250,0.34713304);\">minerally</span> <span style=\"background-color:rgba(135,206,250,0.8559535);\">finish</span> <span style=\"background-color:rgba(135,206,250,0.6260221);\">that</span> <span style=\"background-color:rgba(135,206,250,0.7181774);\">lingers</span>"
      ],
      "text/plain": [
       "<IPython.core.display.HTML object>"
      ]
     },
     "metadata": {},
     "output_type": "display_data"
    },
    {
     "name": "stdout",
     "output_type": "stream",
     "text": [
      "long:   \t43.77%\n",
      "on:   \t40.79%\n",
      ".:   \t3.67%\n",
      "through:   \t3.4%\n",
      "nicely:   \t3.03%\n",
      "--------\n",
      "\n"
     ]
    },
    {
     "data": {
      "text/html": [
       "<span style=\"background-color:rgba(135,206,250,0.026613975);\">wine</span> <span style=\"background-color:rgba(135,206,250,0.029647093);\">review</span> <span style=\"background-color:rgba(135,206,250,0.05025011);\">:</span> <span style=\"background-color:rgba(135,206,250,0.22221582);\">germany</span> <span style=\"background-color:rgba(135,206,250,0.06559556);\">:</span> <span style=\"background-color:rgba(135,206,250,0.0877186);\">rheingau</span> <span style=\"background-color:rgba(135,206,250,0.03443405);\">:</span> <span style=\"background-color:rgba(135,206,250,0.093534544);\">riesling</span> <span style=\"background-color:rgba(135,206,250,0.03227866);\">:</span> <span style=\"background-color:rgba(135,206,250,0.022596424);\">this</span> <span style=\"background-color:rgba(135,206,250,0.018047653);\">is</span> <span style=\"background-color:rgba(135,206,250,0.014409257);\">a</span> <span style=\"background-color:rgba(135,206,250,0.013899797);\">ripe</span> <span style=\"background-color:rgba(135,206,250,0.012375459);\">,</span> <span style=\"background-color:rgba(135,206,250,0.01722052);\">full</span> <span style=\"background-color:rgba(135,206,250,0.007302916);\">-</span> <span style=\"background-color:rgba(135,206,250,0.023324624);\">bodied</span> <span style=\"background-color:rgba(135,206,250,0.033842262);\">riesling</span> <span style=\"background-color:rgba(135,206,250,0.016276753);\">with</span> <span style=\"background-color:rgba(135,206,250,0.014630743);\">a</span> <span style=\"background-color:rgba(135,206,250,0.0227251);\">touch</span> <span style=\"background-color:rgba(135,206,250,0.014954116);\">of</span> <span style=\"background-color:rgba(135,206,250,0.03419253);\">residual</span> <span style=\"background-color:rgba(135,206,250,0.02409792);\">sugar</span> <span style=\"background-color:rgba(135,206,250,0.053960554);\">.</span> <span style=\"background-color:rgba(135,206,250,0.019142997);\">it</span> <span style=\"background-color:rgba(135,206,250,0.011119484);\">'</span> <span style=\"background-color:rgba(135,206,250,0.026600135);\">s</span> <span style=\"background-color:rgba(135,206,250,0.020657443);\">a</span> <span style=\"background-color:rgba(135,206,250,0.0317518);\">slightly</span> <span style=\"background-color:rgba(135,206,250,0.03208173);\">sweet</span> <span style=\"background-color:rgba(135,206,250,0.022499844);\">,</span> <span style=\"background-color:rgba(135,206,250,0.022821644);\">fresh</span> <span style=\"background-color:rgba(135,206,250,0.025508812);\">,</span> <span style=\"background-color:rgba(135,206,250,0.06049077);\">fruity</span> <span style=\"background-color:rgba(135,206,250,0.05246754);\">style</span> <span style=\"background-color:rgba(135,206,250,0.034905497);\">,</span> <span style=\"background-color:rgba(135,206,250,0.07014524);\">with</span> <span style=\"background-color:rgba(135,206,250,0.076482385);\">a</span> <span style=\"background-color:rgba(135,206,250,0.060948063);\">zesty</span> <span style=\"background-color:rgba(135,206,250,0.07915059);\">,</span> <span style=\"background-color:rgba(135,206,250,0.10196954);\">minerally</span> <span style=\"background-color:rgba(135,206,250,0.47527322);\">finish</span> <span style=\"background-color:rgba(135,206,250,0.2860008);\">that</span> <span style=\"background-color:rgba(135,206,250,1.0);\">lingers</span> <span style=\"background-color:rgba(135,206,250,0.34645244);\">long</span>"
      ],
      "text/plain": [
       "<IPython.core.display.HTML object>"
      ]
     },
     "metadata": {},
     "output_type": "display_data"
    },
    {
     "name": "stdout",
     "output_type": "stream",
     "text": [
      ".:   \t58.71%\n",
      "on:   \t33.17%\n",
      ",:   \t2.79%\n",
      "and:   \t2.38%\n",
      "into:   \t1.71%\n",
      "--------\n",
      "\n"
     ]
    },
    {
     "data": {
      "text/html": [
       "<span style=\"background-color:rgba(135,206,250,0.055480815);\">wine</span> <span style=\"background-color:rgba(135,206,250,0.0601326);\">review</span> <span style=\"background-color:rgba(135,206,250,0.11448939);\">:</span> <span style=\"background-color:rgba(135,206,250,0.40996304);\">germany</span> <span style=\"background-color:rgba(135,206,250,0.19619462);\">:</span> <span style=\"background-color:rgba(135,206,250,0.18244736);\">rheingau</span> <span style=\"background-color:rgba(135,206,250,0.08674556);\">:</span> <span style=\"background-color:rgba(135,206,250,0.20858617);\">riesling</span> <span style=\"background-color:rgba(135,206,250,0.06325423);\">:</span> <span style=\"background-color:rgba(135,206,250,0.08766661);\">this</span> <span style=\"background-color:rgba(135,206,250,0.04099473);\">is</span> <span style=\"background-color:rgba(135,206,250,0.031608727);\">a</span> <span style=\"background-color:rgba(135,206,250,0.025112323);\">ripe</span> <span style=\"background-color:rgba(135,206,250,0.026583763);\">,</span> <span style=\"background-color:rgba(135,206,250,0.023746196);\">full</span> <span style=\"background-color:rgba(135,206,250,0.017835656);\">-</span> <span style=\"background-color:rgba(135,206,250,0.038760316);\">bodied</span> <span style=\"background-color:rgba(135,206,250,0.063441075);\">riesling</span> <span style=\"background-color:rgba(135,206,250,0.027905323);\">with</span> <span style=\"background-color:rgba(135,206,250,0.029812587);\">a</span> <span style=\"background-color:rgba(135,206,250,0.034524955);\">touch</span> <span style=\"background-color:rgba(135,206,250,0.024643809);\">of</span> <span style=\"background-color:rgba(135,206,250,0.05463553);\">residual</span> <span style=\"background-color:rgba(135,206,250,0.04098728);\">sugar</span> <span style=\"background-color:rgba(135,206,250,0.0903371);\">.</span> <span style=\"background-color:rgba(135,206,250,0.054304723);\">it</span> <span style=\"background-color:rgba(135,206,250,0.024946535);\">'</span> <span style=\"background-color:rgba(135,206,250,0.051566154);\">s</span> <span style=\"background-color:rgba(135,206,250,0.040070616);\">a</span> <span style=\"background-color:rgba(135,206,250,0.044064);\">slightly</span> <span style=\"background-color:rgba(135,206,250,0.050657563);\">sweet</span> <span style=\"background-color:rgba(135,206,250,0.0461144);\">,</span> <span style=\"background-color:rgba(135,206,250,0.037997838);\">fresh</span> <span style=\"background-color:rgba(135,206,250,0.05438534);\">,</span> <span style=\"background-color:rgba(135,206,250,0.08551529);\">fruity</span> <span style=\"background-color:rgba(135,206,250,0.12165319);\">style</span> <span style=\"background-color:rgba(135,206,250,0.08214581);\">,</span> <span style=\"background-color:rgba(135,206,250,0.087483995);\">with</span> <span style=\"background-color:rgba(135,206,250,0.11204604);\">a</span> <span style=\"background-color:rgba(135,206,250,0.15235804);\">zesty</span> <span style=\"background-color:rgba(135,206,250,0.1774554);\">,</span> <span style=\"background-color:rgba(135,206,250,0.24837074);\">minerally</span> <span style=\"background-color:rgba(135,206,250,0.7004463);\">finish</span> <span style=\"background-color:rgba(135,206,250,0.3301952);\">that</span> <span style=\"background-color:rgba(135,206,250,1.0);\">lingers</span> <span style=\"background-color:rgba(135,206,250,0.6050884);\">long</span> <span style=\"background-color:rgba(135,206,250,0.255612);\">on</span>"
      ],
      "text/plain": [
       "<IPython.core.display.HTML object>"
      ]
     },
     "metadata": {},
     "output_type": "display_data"
    },
    {
     "name": "stdout",
     "output_type": "stream",
     "text": [
      "the:   \t99.71%\n",
      "a:   \t0.27%\n",
      ".:   \t0.01%\n",
      "an:   \t0.0%\n",
      "its:   \t0.0%\n",
      "--------\n",
      "\n"
     ]
    },
    {
     "data": {
      "text/html": [
       "<span style=\"background-color:rgba(135,206,250,0.032686092);\">wine</span> <span style=\"background-color:rgba(135,206,250,0.027613934);\">review</span> <span style=\"background-color:rgba(135,206,250,0.06419193);\">:</span> <span style=\"background-color:rgba(135,206,250,0.44344985);\">germany</span> <span style=\"background-color:rgba(135,206,250,0.07543057);\">:</span> <span style=\"background-color:rgba(135,206,250,0.2563469);\">rheingau</span> <span style=\"background-color:rgba(135,206,250,0.03792535);\">:</span> <span style=\"background-color:rgba(135,206,250,0.27619037);\">riesling</span> <span style=\"background-color:rgba(135,206,250,0.049240004);\">:</span> <span style=\"background-color:rgba(135,206,250,0.036025826);\">this</span> <span style=\"background-color:rgba(135,206,250,0.023476882);\">is</span> <span style=\"background-color:rgba(135,206,250,0.01345234);\">a</span> <span style=\"background-color:rgba(135,206,250,0.042162232);\">ripe</span> <span style=\"background-color:rgba(135,206,250,0.014697175);\">,</span> <span style=\"background-color:rgba(135,206,250,0.029497672);\">full</span> <span style=\"background-color:rgba(135,206,250,0.010533356);\">-</span> <span style=\"background-color:rgba(135,206,250,0.056832004);\">bodied</span> <span style=\"background-color:rgba(135,206,250,0.0787873);\">riesling</span> <span style=\"background-color:rgba(135,206,250,0.012013258);\">with</span> <span style=\"background-color:rgba(135,206,250,0.0119267255);\">a</span> <span style=\"background-color:rgba(135,206,250,0.031844966);\">touch</span> <span style=\"background-color:rgba(135,206,250,0.010268421);\">of</span> <span style=\"background-color:rgba(135,206,250,0.056406897);\">residual</span> <span style=\"background-color:rgba(135,206,250,0.05580977);\">sugar</span> <span style=\"background-color:rgba(135,206,250,0.051247593);\">.</span> <span style=\"background-color:rgba(135,206,250,0.024309302);\">it</span> <span style=\"background-color:rgba(135,206,250,0.01092398);\">'</span> <span style=\"background-color:rgba(135,206,250,0.02340169);\">s</span> <span style=\"background-color:rgba(135,206,250,0.015583918);\">a</span> <span style=\"background-color:rgba(135,206,250,0.040070493);\">slightly</span> <span style=\"background-color:rgba(135,206,250,0.06909151);\">sweet</span> <span style=\"background-color:rgba(135,206,250,0.024450488);\">,</span> <span style=\"background-color:rgba(135,206,250,0.04686378);\">fresh</span> <span style=\"background-color:rgba(135,206,250,0.028364165);\">,</span> <span style=\"background-color:rgba(135,206,250,0.109542005);\">fruity</span> <span style=\"background-color:rgba(135,206,250,0.05855482);\">style</span> <span style=\"background-color:rgba(135,206,250,0.044973325);\">,</span> <span style=\"background-color:rgba(135,206,250,0.052611552);\">with</span> <span style=\"background-color:rgba(135,206,250,0.041199025);\">a</span> <span style=\"background-color:rgba(135,206,250,0.12578402);\">zesty</span> <span style=\"background-color:rgba(135,206,250,0.122334555);\">,</span> <span style=\"background-color:rgba(135,206,250,0.1967483);\">minerally</span> <span style=\"background-color:rgba(135,206,250,0.5312076);\">finish</span> <span style=\"background-color:rgba(135,206,250,0.19376867);\">that</span> <span style=\"background-color:rgba(135,206,250,0.89217395);\">lingers</span> <span style=\"background-color:rgba(135,206,250,0.693951);\">long</span> <span style=\"background-color:rgba(135,206,250,1.0);\">on</span> <span style=\"background-color:rgba(135,206,250,0.23577781);\">the</span>"
      ],
      "text/plain": [
       "<IPython.core.display.HTML object>"
      ]
     },
     "metadata": {},
     "output_type": "display_data"
    },
    {
     "name": "stdout",
     "output_type": "stream",
     "text": [
      "finish:   \t93.32%\n",
      "palate:   \t6.24%\n",
      "long:   \t0.26%\n",
      "nose:   \t0.1%\n",
      "sip:   \t0.02%\n",
      "--------\n",
      "\n"
     ]
    },
    {
     "data": {
      "text/html": [
       "<span style=\"background-color:rgba(135,206,250,0.032795094);\">wine</span> <span style=\"background-color:rgba(135,206,250,0.06435568);\">review</span> <span style=\"background-color:rgba(135,206,250,0.08606307);\">:</span> <span style=\"background-color:rgba(135,206,250,0.43250415);\">germany</span> <span style=\"background-color:rgba(135,206,250,0.12200728);\">:</span> <span style=\"background-color:rgba(135,206,250,0.13351059);\">rheingau</span> <span style=\"background-color:rgba(135,206,250,0.056455296);\">:</span> <span style=\"background-color:rgba(135,206,250,0.13143687);\">riesling</span> <span style=\"background-color:rgba(135,206,250,0.06739256);\">:</span> <span style=\"background-color:rgba(135,206,250,0.046612937);\">this</span> <span style=\"background-color:rgba(135,206,250,0.043400116);\">is</span> <span style=\"background-color:rgba(135,206,250,0.024110446);\">a</span> <span style=\"background-color:rgba(135,206,250,0.037132554);\">ripe</span> <span style=\"background-color:rgba(135,206,250,0.016190687);\">,</span> <span style=\"background-color:rgba(135,206,250,0.041679814);\">full</span> <span style=\"background-color:rgba(135,206,250,0.0134006385);\">-</span> <span style=\"background-color:rgba(135,206,250,0.02883335);\">bodied</span> <span style=\"background-color:rgba(135,206,250,0.032803744);\">riesling</span> <span style=\"background-color:rgba(135,206,250,0.0347831);\">with</span> <span style=\"background-color:rgba(135,206,250,0.020741455);\">a</span> <span style=\"background-color:rgba(135,206,250,0.01858591);\">touch</span> <span style=\"background-color:rgba(135,206,250,0.013158718);\">of</span> <span style=\"background-color:rgba(135,206,250,0.03529718);\">residual</span> <span style=\"background-color:rgba(135,206,250,0.021256443);\">sugar</span> <span style=\"background-color:rgba(135,206,250,0.109359324);\">.</span> <span style=\"background-color:rgba(135,206,250,0.036683884);\">it</span> <span style=\"background-color:rgba(135,206,250,0.015910197);\">'</span> <span style=\"background-color:rgba(135,206,250,0.042952172);\">s</span> <span style=\"background-color:rgba(135,206,250,0.031411134);\">a</span> <span style=\"background-color:rgba(135,206,250,0.04890487);\">slightly</span> <span style=\"background-color:rgba(135,206,250,0.06872703);\">sweet</span> <span style=\"background-color:rgba(135,206,250,0.033940677);\">,</span> <span style=\"background-color:rgba(135,206,250,0.058100767);\">fresh</span> <span style=\"background-color:rgba(135,206,250,0.039500847);\">,</span> <span style=\"background-color:rgba(135,206,250,0.108109064);\">fruity</span> <span style=\"background-color:rgba(135,206,250,0.05301401);\">style</span> <span style=\"background-color:rgba(135,206,250,0.056463506);\">,</span> <span style=\"background-color:rgba(135,206,250,0.14349616);\">with</span> <span style=\"background-color:rgba(135,206,250,0.109534755);\">a</span> <span style=\"background-color:rgba(135,206,250,0.18134047);\">zesty</span> <span style=\"background-color:rgba(135,206,250,0.10987978);\">,</span> <span style=\"background-color:rgba(135,206,250,0.19819552);\">minerally</span> <span style=\"background-color:rgba(135,206,250,0.13653485);\">finish</span> <span style=\"background-color:rgba(135,206,250,0.23668052);\">that</span> <span style=\"background-color:rgba(135,206,250,0.7339596);\">lingers</span> <span style=\"background-color:rgba(135,206,250,0.49526027);\">long</span> <span style=\"background-color:rgba(135,206,250,1.0);\">on</span> <span style=\"background-color:rgba(135,206,250,0.8516517);\">the</span> <span style=\"background-color:rgba(135,206,250,0.39665848);\">finish</span>"
      ],
      "text/plain": [
       "<IPython.core.display.HTML object>"
      ]
     },
     "metadata": {},
     "output_type": "display_data"
    },
    {
     "name": "stdout",
     "output_type": "stream",
     "text": [
      ".:   \t99.96%\n",
      ",:   \t0.03%\n",
      "of:   \t0.01%\n",
      "that:   \t0.0%\n",
      "with:   \t0.0%\n",
      "--------\n",
      "\n"
     ]
    },
    {
     "data": {
      "text/html": [
       "<span style=\"background-color:rgba(135,206,250,0.16885272);\">wine</span> <span style=\"background-color:rgba(135,206,250,0.16055082);\">review</span> <span style=\"background-color:rgba(135,206,250,0.31508872);\">:</span> <span style=\"background-color:rgba(135,206,250,1.0);\">germany</span> <span style=\"background-color:rgba(135,206,250,0.4977771);\">:</span> <span style=\"background-color:rgba(135,206,250,0.6257415);\">rheingau</span> <span style=\"background-color:rgba(135,206,250,0.36779958);\">:</span> <span style=\"background-color:rgba(135,206,250,0.5002609);\">riesling</span> <span style=\"background-color:rgba(135,206,250,0.20790783);\">:</span> <span style=\"background-color:rgba(135,206,250,0.15795012);\">this</span> <span style=\"background-color:rgba(135,206,250,0.09805122);\">is</span> <span style=\"background-color:rgba(135,206,250,0.050812386);\">a</span> <span style=\"background-color:rgba(135,206,250,0.06679429);\">ripe</span> <span style=\"background-color:rgba(135,206,250,0.036161713);\">,</span> <span style=\"background-color:rgba(135,206,250,0.044145804);\">full</span> <span style=\"background-color:rgba(135,206,250,0.029504811);\">-</span> <span style=\"background-color:rgba(135,206,250,0.052926354);\">bodied</span> <span style=\"background-color:rgba(135,206,250,0.06269467);\">riesling</span> <span style=\"background-color:rgba(135,206,250,0.028968686);\">with</span> <span style=\"background-color:rgba(135,206,250,0.01943792);\">a</span> <span style=\"background-color:rgba(135,206,250,0.032945447);\">touch</span> <span style=\"background-color:rgba(135,206,250,0.014636284);\">of</span> <span style=\"background-color:rgba(135,206,250,0.06555876);\">residual</span> <span style=\"background-color:rgba(135,206,250,0.046316434);\">sugar</span> <span style=\"background-color:rgba(135,206,250,0.0649301);\">.</span> <span style=\"background-color:rgba(135,206,250,0.036861405);\">it</span> <span style=\"background-color:rgba(135,206,250,0.012572904);\">'</span> <span style=\"background-color:rgba(135,206,250,0.037585955);\">s</span> <span style=\"background-color:rgba(135,206,250,0.022526212);\">a</span> <span style=\"background-color:rgba(135,206,250,0.045064013);\">slightly</span> <span style=\"background-color:rgba(135,206,250,0.08104204);\">sweet</span> <span style=\"background-color:rgba(135,206,250,0.025699046);\">,</span> <span style=\"background-color:rgba(135,206,250,0.043526214);\">fresh</span> <span style=\"background-color:rgba(135,206,250,0.02645194);\">,</span> <span style=\"background-color:rgba(135,206,250,0.08630986);\">fruity</span> <span style=\"background-color:rgba(135,206,250,0.042217217);\">style</span> <span style=\"background-color:rgba(135,206,250,0.032290936);\">,</span> <span style=\"background-color:rgba(135,206,250,0.05436042);\">with</span> <span style=\"background-color:rgba(135,206,250,0.036843356);\">a</span> <span style=\"background-color:rgba(135,206,250,0.09254864);\">zesty</span> <span style=\"background-color:rgba(135,206,250,0.04561505);\">,</span> <span style=\"background-color:rgba(135,206,250,0.1174208);\">minerally</span> <span style=\"background-color:rgba(135,206,250,0.48635206);\">finish</span> <span style=\"background-color:rgba(135,206,250,0.10588966);\">that</span> <span style=\"background-color:rgba(135,206,250,0.2687201);\">lingers</span> <span style=\"background-color:rgba(135,206,250,0.2121265);\">long</span> <span style=\"background-color:rgba(135,206,250,0.08956305);\">on</span> <span style=\"background-color:rgba(135,206,250,0.08072715);\">the</span> <span style=\"background-color:rgba(135,206,250,0.67433035);\">finish</span> <span style=\"background-color:rgba(135,206,250,0.2892927);\">.</span>"
      ],
      "text/plain": [
       "<IPython.core.display.HTML object>"
      ]
     },
     "metadata": {},
     "output_type": "display_data"
    },
    {
     "name": "stdout",
     "output_type": "stream",
     "text": [
      ":   \t94.62%\n",
      "drink:   \t5.2%\n",
      "it:   \t0.08%\n",
      "the:   \t0.03%\n",
      "this:   \t0.02%\n",
      "--------\n",
      "\n"
     ]
    }
   ],
   "source": [
    "info = text_generator.generate(\"wine review : germany\", max_tokens=80, temperature=0.5)\n",
    "print_probs(info, vocab)"
   ]
  },
  {
   "cell_type": "code",
   "execution_count": null,
   "id": "fcc7a7c0-6c64-47d3-acee-96e48f025e01",
   "metadata": {},
   "outputs": [],
   "source": []
  },
  {
   "cell_type": "code",
   "execution_count": null,
   "id": "4122154c-9e41-44ba-8c5f-fe88a55fe977",
   "metadata": {},
   "outputs": [],
   "source": []
  }
 ],
 "metadata": {
  "kernelspec": {
   "display_name": "Python 3 (ipykernel)",
   "language": "python",
   "name": "python3"
  },
  "language_info": {
   "codemirror_mode": {
    "name": "ipython",
    "version": 3
   },
   "file_extension": ".py",
   "mimetype": "text/x-python",
   "name": "python",
   "nbconvert_exporter": "python",
   "pygments_lexer": "ipython3",
   "version": "3.8.10"
  }
 },
 "nbformat": 4,
 "nbformat_minor": 5
}
